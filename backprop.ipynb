{
  "nbformat": 4,
  "nbformat_minor": 0,
  "metadata": {
    "colab": {
      "provenance": [],
      "authorship_tag": "ABX9TyPwpUW4C7OdD6v5TxmYGCGJ",
      "include_colab_link": true
    },
    "kernelspec": {
      "name": "python3",
      "display_name": "Python 3"
    },
    "language_info": {
      "name": "python"
    }
  },
  "cells": [
    {
      "cell_type": "markdown",
      "metadata": {
        "id": "view-in-github",
        "colab_type": "text"
      },
      "source": [
        "<a href=\"https://colab.research.google.com/github/satani99/fastai_22_2/blob/main/backprop.ipynb\" target=\"_parent\"><img src=\"https://colab.research.google.com/assets/colab-badge.svg\" alt=\"Open In Colab\"/></a>"
      ]
    },
    {
      "cell_type": "code",
      "source": [
        "!wget https://github.com/mnielsen/neural-networks-and-deep-learning/raw/master/data/mnist.pkl.gz"
      ],
      "metadata": {
        "colab": {
          "base_uri": "https://localhost:8080/"
        },
        "id": "PsMgoKUfOj4i",
        "outputId": "70fb472c-d1ef-481c-ac55-f7c0cdc3f85c"
      },
      "execution_count": 1,
      "outputs": [
        {
          "output_type": "stream",
          "name": "stdout",
          "text": [
            "--2023-08-04 05:46:46--  https://github.com/mnielsen/neural-networks-and-deep-learning/raw/master/data/mnist.pkl.gz\n",
            "Resolving github.com (github.com)... 20.27.177.113\n",
            "Connecting to github.com (github.com)|20.27.177.113|:443... connected.\n",
            "HTTP request sent, awaiting response... 302 Found\n",
            "Location: https://raw.githubusercontent.com/mnielsen/neural-networks-and-deep-learning/master/data/mnist.pkl.gz [following]\n",
            "--2023-08-04 05:46:46--  https://raw.githubusercontent.com/mnielsen/neural-networks-and-deep-learning/master/data/mnist.pkl.gz\n",
            "Resolving raw.githubusercontent.com (raw.githubusercontent.com)... 185.199.108.133, 185.199.109.133, 185.199.110.133, ...\n",
            "Connecting to raw.githubusercontent.com (raw.githubusercontent.com)|185.199.108.133|:443... connected.\n",
            "HTTP request sent, awaiting response... 200 OK\n",
            "Length: 17051982 (16M) [application/octet-stream]\n",
            "Saving to: ‘mnist.pkl.gz’\n",
            "\n",
            "mnist.pkl.gz        100%[===================>]  16.26M  --.-KB/s    in 0.1s    \n",
            "\n",
            "2023-08-04 05:46:51 (111 MB/s) - ‘mnist.pkl.gz’ saved [17051982/17051982]\n",
            "\n"
          ]
        }
      ]
    },
    {
      "cell_type": "code",
      "execution_count": 2,
      "metadata": {
        "id": "_yNJzTTBKGXI"
      },
      "outputs": [],
      "source": [
        "import pickle, gzip, math, os, time, shutil, torch, matplotlib as mpl, numpy as np\n",
        "from pathlib import Path\n",
        "from torch import tensor\n",
        "from fastcore.test import test_close\n",
        "torch.manual_seed(42)\n",
        "\n",
        "mpl.rcParams['image.cmap'] = 'gray'\n",
        "torch.set_printoptions(precision=2, linewidth=125, sci_mode=False)\n",
        "np.set_printoptions(precision=2, linewidth=125)\n",
        "\n",
        "path_data = Path('/content')\n",
        "path_gz = path_data/'mnist.pkl.gz'\n",
        "with gzip.open(path_gz, 'rb') as f: ((x_train, y_train), (x_valid, y_valid), _) = pickle.load(f, encoding='latin')\n",
        "x_train, y_train, x_valid, y_valid = map(tensor, [x_train, y_train, x_valid, y_valid])"
      ]
    },
    {
      "cell_type": "code",
      "source": [
        "n, m = x_train.shape\n",
        "c = y_train.max() + 1\n",
        "n, m, c"
      ],
      "metadata": {
        "colab": {
          "base_uri": "https://localhost:8080/"
        },
        "id": "9Z3LY58bOIZn",
        "outputId": "595d8d0e-c76e-46d4-8c59-5a0af6caf90a"
      },
      "execution_count": 3,
      "outputs": [
        {
          "output_type": "execute_result",
          "data": {
            "text/plain": [
              "(50000, 784, tensor(10))"
            ]
          },
          "metadata": {},
          "execution_count": 3
        }
      ]
    },
    {
      "cell_type": "code",
      "source": [
        "nh = 50"
      ],
      "metadata": {
        "id": "vzMRkjhzO18V"
      },
      "execution_count": 4,
      "outputs": []
    },
    {
      "cell_type": "code",
      "source": [
        "w1 = torch.randn(m, nh)\n",
        "b1 = torch.zeros(nh)\n",
        "w2 = torch.randn(nh, 1)\n",
        "b2 = torch.zeros(1)"
      ],
      "metadata": {
        "id": "426kak6QO8JK"
      },
      "execution_count": 5,
      "outputs": []
    },
    {
      "cell_type": "code",
      "source": [
        "def lin(x, w, b): return x@w + b\n"
      ],
      "metadata": {
        "id": "p6JuCUHHPNmd"
      },
      "execution_count": 6,
      "outputs": []
    },
    {
      "cell_type": "code",
      "source": [
        "t = lin(x_valid, w1, b1)\n",
        "t.shape"
      ],
      "metadata": {
        "id": "lzOU9Hf1PTFp",
        "outputId": "c3cead59-4737-4854-c36b-d208231261ce",
        "colab": {
          "base_uri": "https://localhost:8080/"
        }
      },
      "execution_count": 7,
      "outputs": [
        {
          "output_type": "execute_result",
          "data": {
            "text/plain": [
              "torch.Size([10000, 50])"
            ]
          },
          "metadata": {},
          "execution_count": 7
        }
      ]
    },
    {
      "cell_type": "code",
      "source": [
        "def relu(x): return x.clamp_min(0.)"
      ],
      "metadata": {
        "id": "RousY4IePfCI"
      },
      "execution_count": 8,
      "outputs": []
    },
    {
      "cell_type": "code",
      "source": [
        "t = relu(t)\n",
        "t"
      ],
      "metadata": {
        "id": "5R-lbT3JPlub",
        "outputId": "a40f4c0e-16fe-49e8-90e9-d24be92b0fb3",
        "colab": {
          "base_uri": "https://localhost:8080/"
        }
      },
      "execution_count": 9,
      "outputs": [
        {
          "output_type": "execute_result",
          "data": {
            "text/plain": [
              "tensor([[ 0.00, 11.87,  0.00,  ...,  5.48,  2.14, 15.30],\n",
              "        [ 5.38, 10.21,  0.00,  ...,  0.88,  0.08, 20.23],\n",
              "        [ 3.31,  0.12,  3.10,  ..., 16.89,  0.00, 24.74],\n",
              "        ...,\n",
              "        [ 4.01, 10.35,  0.00,  ...,  0.23,  0.00, 18.28],\n",
              "        [10.62,  0.00, 10.72,  ...,  0.00,  0.00, 18.23],\n",
              "        [ 2.84,  0.00,  1.43,  ...,  0.00,  5.75,  2.12]])"
            ]
          },
          "metadata": {},
          "execution_count": 9
        }
      ]
    },
    {
      "cell_type": "code",
      "source": [
        "def model(xb):\n",
        "  l1 = lin(xb, w1, b1)\n",
        "  l2 = relu(l1)\n",
        "  return lin(l2, w2, b2)"
      ],
      "metadata": {
        "id": "1TvwwHOvPohj"
      },
      "execution_count": 10,
      "outputs": []
    },
    {
      "cell_type": "code",
      "source": [
        "res = model(x_valid)\n",
        "res.shape"
      ],
      "metadata": {
        "id": "bwNO3ZYuPyCI",
        "outputId": "b2c90ebe-cc99-45a7-9e3d-b938e5650f22",
        "colab": {
          "base_uri": "https://localhost:8080/"
        }
      },
      "execution_count": 11,
      "outputs": [
        {
          "output_type": "execute_result",
          "data": {
            "text/plain": [
              "torch.Size([10000, 1])"
            ]
          },
          "metadata": {},
          "execution_count": 11
        }
      ]
    },
    {
      "cell_type": "code",
      "source": [
        "res.shape, y_valid.shape"
      ],
      "metadata": {
        "id": "rqbDwKlsP1bV",
        "outputId": "f5a9d491-e072-4f76-eb19-337388c2c6b5",
        "colab": {
          "base_uri": "https://localhost:8080/"
        }
      },
      "execution_count": 12,
      "outputs": [
        {
          "output_type": "execute_result",
          "data": {
            "text/plain": [
              "(torch.Size([10000, 1]), torch.Size([10000]))"
            ]
          },
          "metadata": {},
          "execution_count": 12
        }
      ]
    },
    {
      "cell_type": "code",
      "source": [
        "(res-y_valid).shape"
      ],
      "metadata": {
        "id": "Ha40EV3HQitk",
        "outputId": "eda2bbd0-4070-44ca-85bd-06cd5882cf21",
        "colab": {
          "base_uri": "https://localhost:8080/"
        }
      },
      "execution_count": 13,
      "outputs": [
        {
          "output_type": "execute_result",
          "data": {
            "text/plain": [
              "torch.Size([10000, 10000])"
            ]
          },
          "metadata": {},
          "execution_count": 13
        }
      ]
    },
    {
      "cell_type": "code",
      "source": [
        "res[:,0].shape"
      ],
      "metadata": {
        "id": "xE1qgpdaQnO2",
        "outputId": "5d075558-976d-422b-f1b1-61f797ae3792",
        "colab": {
          "base_uri": "https://localhost:8080/"
        }
      },
      "execution_count": 14,
      "outputs": [
        {
          "output_type": "execute_result",
          "data": {
            "text/plain": [
              "torch.Size([10000])"
            ]
          },
          "metadata": {},
          "execution_count": 14
        }
      ]
    },
    {
      "cell_type": "code",
      "source": [
        "res.squeeze().shape"
      ],
      "metadata": {
        "id": "NvD9l-vVQs3V",
        "outputId": "b611170b-f35a-4457-85e9-76b93b1dae57",
        "colab": {
          "base_uri": "https://localhost:8080/"
        }
      },
      "execution_count": 15,
      "outputs": [
        {
          "output_type": "execute_result",
          "data": {
            "text/plain": [
              "torch.Size([10000])"
            ]
          },
          "metadata": {},
          "execution_count": 15
        }
      ]
    },
    {
      "cell_type": "code",
      "source": [
        "(res[:,0]-y_valid).shape"
      ],
      "metadata": {
        "id": "Zf2rz1BcRAYu",
        "outputId": "02cdafc7-ee6a-4475-ff24-a682a1183f3b",
        "colab": {
          "base_uri": "https://localhost:8080/"
        }
      },
      "execution_count": 16,
      "outputs": [
        {
          "output_type": "execute_result",
          "data": {
            "text/plain": [
              "torch.Size([10000])"
            ]
          },
          "metadata": {},
          "execution_count": 16
        }
      ]
    },
    {
      "cell_type": "code",
      "source": [
        "y_train, y_valid = y_train.float(), y_valid.float()\n",
        "\n",
        "preds = model(x_train)\n",
        "preds.shape"
      ],
      "metadata": {
        "id": "iP9f2hQKRF0v",
        "outputId": "3718f89d-facf-4b3f-d3d9-382f638b3edf",
        "colab": {
          "base_uri": "https://localhost:8080/"
        }
      },
      "execution_count": 17,
      "outputs": [
        {
          "output_type": "execute_result",
          "data": {
            "text/plain": [
              "torch.Size([50000, 1])"
            ]
          },
          "metadata": {},
          "execution_count": 17
        }
      ]
    },
    {
      "cell_type": "code",
      "source": [
        "def mse(output, targ): return (output.squeeze() - targ).pow(2).mean()"
      ],
      "metadata": {
        "id": "IYOhw9MgRjMk"
      },
      "execution_count": 18,
      "outputs": []
    },
    {
      "cell_type": "code",
      "source": [
        "mse(preds, y_train)"
      ],
      "metadata": {
        "id": "TyxNV3SvR17j",
        "outputId": "017170f2-32fc-4c7b-9a54-2c20b8864fd0",
        "colab": {
          "base_uri": "https://localhost:8080/"
        }
      },
      "execution_count": 19,
      "outputs": [
        {
          "output_type": "execute_result",
          "data": {
            "text/plain": [
              "tensor(4308.76)"
            ]
          },
          "metadata": {},
          "execution_count": 19
        }
      ]
    },
    {
      "cell_type": "code",
      "source": [
        "from sympy import symbols, diff\n",
        "x, y = symbols('x y')\n",
        "diff(x**2, x)"
      ],
      "metadata": {
        "id": "LN5LhcABR4Yk",
        "outputId": "49cb269f-f6c1-4cf9-b50c-04a4438edb83",
        "colab": {
          "base_uri": "https://localhost:8080/",
          "height": 39
        }
      },
      "execution_count": 20,
      "outputs": [
        {
          "output_type": "execute_result",
          "data": {
            "text/plain": [
              "2*x"
            ],
            "text/latex": "$\\displaystyle 2 x$"
          },
          "metadata": {},
          "execution_count": 20
        }
      ]
    },
    {
      "cell_type": "code",
      "source": [
        "diff(3*x**2+9, x)"
      ],
      "metadata": {
        "id": "MSisZ_61Sffk",
        "outputId": "13e7de9b-8fde-40a1-dc2b-30ffa91006b3",
        "colab": {
          "base_uri": "https://localhost:8080/",
          "height": 39
        }
      },
      "execution_count": 21,
      "outputs": [
        {
          "output_type": "execute_result",
          "data": {
            "text/plain": [
              "6*x"
            ],
            "text/latex": "$\\displaystyle 6 x$"
          },
          "metadata": {},
          "execution_count": 21
        }
      ]
    },
    {
      "cell_type": "code",
      "source": [
        "def lin_grad(inp, out, w, b):\n",
        "  inp.g = out.g @ w.t()\n",
        "  w.g = (inp.unsqueeze(-1) * out.g.unsqueeze(1)).sum(0)\n",
        "  b.g = out.g.sum(0)"
      ],
      "metadata": {
        "id": "IQz1rSLcUGxv"
      },
      "execution_count": 26,
      "outputs": []
    },
    {
      "cell_type": "code",
      "source": [
        "def forward_and_backward(inp, targ):\n",
        "  l1 = lin(inp, w1, b1)\n",
        "  l2 = relu(l1)\n",
        "  out = lin(l2, w2, b2)\n",
        "  diff = out[:,0]-targ\n",
        "  loss = diff.pow(2).mean()\n",
        "\n",
        "  out.g = 2.*diff[:,None] / inp.shape[0]\n",
        "  lin_grad(l2, out, w2, b2)\n",
        "  l1.g = (l1>0).float() * l2.g\n",
        "  lin_grad(inp, l1, w1, b1)"
      ],
      "metadata": {
        "id": "4GqBAuktF9KG"
      },
      "execution_count": 27,
      "outputs": []
    },
    {
      "cell_type": "code",
      "source": [
        "forward_and_backward(x_train, y_train)"
      ],
      "metadata": {
        "id": "fggcMAu3HCht"
      },
      "execution_count": 28,
      "outputs": []
    },
    {
      "cell_type": "code",
      "source": [
        "def get_grad(x): return x.g.clone()\n",
        "chks = w1, w2 ,b1, b2, x_train\n",
        "grads = w1g, w2g, b1g ,b2g, ig = tuple(map(get_grad, chks))"
      ],
      "metadata": {
        "id": "WoTurN_NHYBf"
      },
      "execution_count": 29,
      "outputs": []
    },
    {
      "cell_type": "code",
      "source": [
        "def mkgrad(x): return x.clone().requires_grad_(True)\n",
        "ptgrads = w12, w22, b12, b22, xt2 = tuple(map(mkgrad, chks))"
      ],
      "metadata": {
        "id": "WpqrldwxH29Z"
      },
      "execution_count": 30,
      "outputs": []
    },
    {
      "cell_type": "code",
      "source": [
        "def forward(inp, targ):\n",
        "  l1 = lin(inp, w12, b12)\n",
        "  l2 = relu(l1)\n",
        "  out = lin(l2, w22, b22)\n",
        "  return mse(out, targ)"
      ],
      "metadata": {
        "id": "_o0hbBhAIWue"
      },
      "execution_count": 31,
      "outputs": []
    },
    {
      "cell_type": "code",
      "source": [
        "loss = forward(xt2, y_train)\n",
        "loss.backward()"
      ],
      "metadata": {
        "id": "NC9gij0HI4SX"
      },
      "execution_count": 32,
      "outputs": []
    },
    {
      "cell_type": "code",
      "source": [
        "for a,b in zip(grads, ptgrads): test_close(a, b.grad, eps=0.01)"
      ],
      "metadata": {
        "id": "TMWYmHyiJCwZ"
      },
      "execution_count": 33,
      "outputs": []
    },
    {
      "cell_type": "code",
      "source": [
        "class Relu():\n",
        "  def __call__(self, inp):\n",
        "    self.inp = inp\n",
        "    self.out = inp.clamp_min(0.)\n",
        "    return self.out\n",
        "\n",
        "  def backward(self): self.inp.g = (self.inp>0).float() * self.out.g"
      ],
      "metadata": {
        "id": "JEQHlShIJM6w"
      },
      "execution_count": 34,
      "outputs": []
    },
    {
      "cell_type": "code",
      "source": [
        "class Lin():\n",
        "  def __init__(self, w, b):\n",
        "    self.w, self.b = w, b\n",
        "\n",
        "  def __call__(self, inp):\n",
        "    self.inp = inp\n",
        "    self.out = lin(inp, self.w, self.b)\n",
        "    return self.out\n",
        "\n",
        "  def backward(self):\n",
        "    self.inp.g = self.out.g @ self.w.t()\n",
        "    self.w.g = self.inp.t() @ self.out.g\n",
        "    self.b.g = self.out.g.sum(0)"
      ],
      "metadata": {
        "id": "jQFx7SStKb0n"
      },
      "execution_count": 35,
      "outputs": []
    },
    {
      "cell_type": "code",
      "source": [
        "class Mse():\n",
        "  def __call__(self, inp, targ):\n",
        "    self.inp, self.targ = inp, targ\n",
        "    self.out = mse(inp, targ)\n",
        "    return self.out\n",
        "\n",
        "  def backward(self):\n",
        "    self.inp.g = 2. * (self.inp.squeeze() - self.targ).unsqueeze(-1) / self.targ.shape[0]"
      ],
      "metadata": {
        "id": "QEPhmzeqK5h8"
      },
      "execution_count": 37,
      "outputs": []
    },
    {
      "cell_type": "code",
      "source": [
        "class Model():\n",
        "  def __init__(self, w1, b1, w2, b2):\n",
        "    self.layers = [Lin(w1, b1), Relu(), Lin(w2, b2)]\n",
        "    self.loss = Mse()\n",
        "\n",
        "  def __call__(self, x, targ):\n",
        "    for l in self.layers: x = l(x)\n",
        "    return self.loss(x, targ)\n",
        "\n",
        "  def backward(self):\n",
        "    self.loss.backward()\n",
        "    for l in reversed(self.layers):\n",
        "      l.backward()"
      ],
      "metadata": {
        "id": "-bmYTcfQNG2C"
      },
      "execution_count": 50,
      "outputs": []
    },
    {
      "cell_type": "code",
      "source": [
        "model = Model(w1, b1, w2, b2)"
      ],
      "metadata": {
        "id": "lj6aP-FsNw-3"
      },
      "execution_count": 39,
      "outputs": []
    },
    {
      "cell_type": "code",
      "source": [
        "loss = model(x_train, y_train)"
      ],
      "metadata": {
        "id": "-g8IHAu7N98x"
      },
      "execution_count": 40,
      "outputs": []
    },
    {
      "cell_type": "code",
      "source": [
        "model.backward()"
      ],
      "metadata": {
        "id": "MhvW_iZjOBf-"
      },
      "execution_count": 41,
      "outputs": []
    },
    {
      "cell_type": "code",
      "source": [
        "test_close(w2g, w2.g, eps=0.01)\n",
        "test_close(b2g, b2.g, eps=0.01)\n",
        "test_close(w1g, w1.g, eps=0.01)\n",
        "test_close(b2g, b2.g, eps=0.01)\n",
        "test_close(ig, x_train.g, eps=0.01)"
      ],
      "metadata": {
        "id": "NiI6AJQQOCpi"
      },
      "execution_count": 42,
      "outputs": []
    },
    {
      "cell_type": "code",
      "source": [
        "class Module():\n",
        "  def __call__(self, *args):\n",
        "    self.args = args\n",
        "    self.out = self.forward(*args)\n",
        "    return self.out\n",
        "\n",
        "  def forward(self): raise Exception('not implemented')\n",
        "  def backward(self): self.bwd(self.out, *self.args)\n",
        "  def bwd(self): raise Exception('not implemented')"
      ],
      "metadata": {
        "id": "kUKNmMyHOaGZ"
      },
      "execution_count": 43,
      "outputs": []
    },
    {
      "cell_type": "code",
      "source": [
        "class Relu(Module):\n",
        "  def forward(self, inp): return inp.clamp_min(0.)\n",
        "  def bwd(self, out, inp): inp.g = (inp>0).float() * out.g"
      ],
      "metadata": {
        "id": "g96eWbsePL0g"
      },
      "execution_count": 44,
      "outputs": []
    },
    {
      "cell_type": "code",
      "source": [
        "class Lin(Module):\n",
        "  def __init__(self, w, b): self.w, self.b = w, b\n",
        "  def forward(self, inp): return inp @ self.w + self.b\n",
        "  def bwd(self, out, inp):\n",
        "    inp.g = self.out.g @ self.w.t()\n",
        "    self.w.g = inp.t() @ self.out.g\n",
        "    self.b.g = self.out.g.sum(0)"
      ],
      "metadata": {
        "id": "OUZFpIgGQCQ-"
      },
      "execution_count": 45,
      "outputs": []
    },
    {
      "cell_type": "code",
      "source": [
        "class Mse(Module):\n",
        "  def forward(self, inp, targ):\n",
        "    return (inp.squeeze() - targ).pow(2).mean()\n",
        "  def bwd(self, out, inp, targ): inp.g = 2*(inp.squeeze()-targ).unsqueeze(-1) / targ.shape[0]"
      ],
      "metadata": {
        "id": "sE-qvF0xQ4zW"
      },
      "execution_count": 46,
      "outputs": []
    },
    {
      "cell_type": "code",
      "source": [
        "model = Model(w1, b1, w2, b2)"
      ],
      "metadata": {
        "id": "Rs3E7xBMRu9_"
      },
      "execution_count": 51,
      "outputs": []
    },
    {
      "cell_type": "code",
      "source": [
        "loss = model(x_train, y_train)"
      ],
      "metadata": {
        "id": "hN-Y0DuQStKl"
      },
      "execution_count": 52,
      "outputs": []
    },
    {
      "cell_type": "code",
      "source": [
        "model.backward()"
      ],
      "metadata": {
        "id": "zYouP6oOSviU"
      },
      "execution_count": 53,
      "outputs": []
    },
    {
      "cell_type": "code",
      "source": [
        "test_close(w2g, w2.g, eps=0.01)\n",
        "test_close(b2g, b2.g, eps=0.01)\n",
        "test_close(w1g, w1.g, eps=0.01)\n",
        "test_close(b1g, b1.g, eps=0.01)\n",
        "test_close(ig, x_train.g, eps=0.01)"
      ],
      "metadata": {
        "id": "DZ5cT_HLSxqr"
      },
      "execution_count": 54,
      "outputs": []
    },
    {
      "cell_type": "code",
      "source": [
        "from torch import nn\n",
        "import torch.nn.functional as F"
      ],
      "metadata": {
        "id": "T1T0unfYTMVX"
      },
      "execution_count": 55,
      "outputs": []
    },
    {
      "cell_type": "code",
      "source": [
        "class Linear(nn.Module):\n",
        "  def __init__(self, n_in, n_out):\n",
        "    super().__init__()\n",
        "    self.w = torch.randn(n_in, n_out).requires_grad_()\n",
        "    self.b = torch.zeros(n_out).requires_grad_()\n",
        "\n",
        "  def forward(self, inp): return inp@self.w + self.b"
      ],
      "metadata": {
        "id": "m0vcft43T07g"
      },
      "execution_count": 56,
      "outputs": []
    },
    {
      "cell_type": "code",
      "source": [
        "class Model(nn.Module):\n",
        "  def __init__(self, n_in, nh, n_out):\n",
        "    super().__init__()\n",
        "    self.layers = [Linear(n_in, nh), nn.ReLU(), Linear(nh, n_out)]\n",
        "\n",
        "  def __call__(self, x, targ):\n",
        "    for l in self.layers: x = l(x)\n",
        "    return F.mse_loss(x, targ[:, None])"
      ],
      "metadata": {
        "id": "__18t5ptUMCZ"
      },
      "execution_count": 57,
      "outputs": []
    },
    {
      "cell_type": "code",
      "source": [
        "model = Model(m, nh, 1)\n",
        "loss = model(x_train, y_train)\n",
        "loss.backward()"
      ],
      "metadata": {
        "id": "DR3unLYAUmPa"
      },
      "execution_count": 58,
      "outputs": []
    },
    {
      "cell_type": "code",
      "source": [
        "l0 = model.layers[0]\n",
        "l0.b.grad"
      ],
      "metadata": {
        "id": "L3vsqexEU8Dt",
        "outputId": "89f08646-a2ea-4c2c-b4ae-e52ca1e97a7d",
        "colab": {
          "base_uri": "https://localhost:8080/"
        }
      },
      "execution_count": 59,
      "outputs": [
        {
          "output_type": "execute_result",
          "data": {
            "text/plain": [
              "tensor([-19.60,  -2.40,  -0.12,   1.99,  12.78, -15.32, -18.45,   0.35,   3.75,  14.67,  10.81,  12.20,  -2.95, -28.33,\n",
              "          0.76,  69.15, -21.86,  49.78,  -7.08,   1.45,  25.20,  11.27, -18.15, -13.13, -17.69, -10.42,  -0.13, -18.89,\n",
              "        -34.81,  -0.84,  40.89,   4.45,  62.35,  31.70,  55.15,  45.13,   3.25,  12.75,  12.45,  -1.41,   4.55,  -6.02,\n",
              "        -62.51,  -1.89,  -1.41,   7.00,   0.49,  18.72,  -4.84,  -6.52])"
            ]
          },
          "metadata": {},
          "execution_count": 59
        }
      ]
    },
    {
      "cell_type": "code",
      "source": [],
      "metadata": {
        "id": "vkX1itWvVG_j"
      },
      "execution_count": null,
      "outputs": []
    }
  ]
}