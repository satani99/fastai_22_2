{
  "nbformat": 4,
  "nbformat_minor": 0,
  "metadata": {
    "colab": {
      "provenance": [],
      "authorship_tag": "ABX9TyPSdpQ09AN6eSa2wSc0HaJB",
      "include_colab_link": true
    },
    "kernelspec": {
      "name": "python3",
      "display_name": "Python 3"
    },
    "language_info": {
      "name": "python"
    }
  },
  "cells": [
    {
      "cell_type": "markdown",
      "metadata": {
        "id": "view-in-github",
        "colab_type": "text"
      },
      "source": [
        "<a href=\"https://colab.research.google.com/github/satani99/fastai_22_2/blob/main/nn_from_scratch.ipynb\" target=\"_parent\"><img src=\"https://colab.research.google.com/assets/colab-badge.svg\" alt=\"Open In Colab\"/></a>"
      ]
    },
    {
      "cell_type": "code",
      "source": [
        "import torch\n",
        "from torch import tensor"
      ],
      "metadata": {
        "id": "G2jz0xTDXKph"
      },
      "execution_count": 3,
      "outputs": []
    },
    {
      "cell_type": "code",
      "source": [
        "def matmul(a, b):\n",
        "  ar, ac = a.shape\n",
        "  br, bc = b.shape\n",
        "  assert ac==br\n",
        "  c = torch.zeros(ar, bc)\n",
        "  for i in range(ar):\n",
        "    for j in range(bc):\n",
        "      for k in range(ac): c[i,j] += a[i,k] * b[k,j]\n",
        "  return c\n"
      ],
      "metadata": {
        "id": "dGoL_-2GmyyO"
      },
      "execution_count": 4,
      "outputs": []
    },
    {
      "cell_type": "code",
      "source": [
        "m1 = torch.randn(5, 28*28)\n",
        "m2 = torch.randn(784, 10)"
      ],
      "metadata": {
        "id": "I8xgCRQCn7oK"
      },
      "execution_count": 5,
      "outputs": []
    },
    {
      "cell_type": "code",
      "source": [
        "%time t1 = matmul(m1, m2)"
      ],
      "metadata": {
        "colab": {
          "base_uri": "https://localhost:8080/"
        },
        "id": "j6bDgCPzyF9-",
        "outputId": "10a95033-7ac9-4249-a3a7-95449caa01d0"
      },
      "execution_count": 6,
      "outputs": [
        {
          "output_type": "stream",
          "name": "stdout",
          "text": [
            "CPU times: user 1.56 s, sys: 2.41 ms, total: 1.56 s\n",
            "Wall time: 1.66 s\n"
          ]
        }
      ]
    },
    {
      "cell_type": "code",
      "source": [
        " %timeit -n 20 t2=m1@m2"
      ],
      "metadata": {
        "colab": {
          "base_uri": "https://localhost:8080/"
        },
        "id": "EhCgUN6xyMgm",
        "outputId": "ed0d4f5c-f008-42bb-8d4e-568f807628e6"
      },
      "execution_count": 7,
      "outputs": [
        {
          "output_type": "stream",
          "name": "stdout",
          "text": [
            "The slowest run took 185.53 times longer than the fastest. This could mean that an intermediate result is being cached.\n",
            "164 µs ± 385 µs per loop (mean ± std. dev. of 7 runs, 20 loops each)\n"
          ]
        }
      ]
    },
    {
      "cell_type": "code",
      "source": [],
      "metadata": {
        "id": "Qikw1vln1wgf"
      },
      "execution_count": null,
      "outputs": []
    }
  ]
}