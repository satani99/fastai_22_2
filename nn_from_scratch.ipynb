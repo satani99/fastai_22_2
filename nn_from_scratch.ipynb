{
  "nbformat": 4,
  "nbformat_minor": 0,
  "metadata": {
    "colab": {
      "provenance": [],
      "authorship_tag": "ABX9TyOaMZ48cBi/Fhxg8oeHex9Y",
      "include_colab_link": true
    },
    "kernelspec": {
      "name": "python3",
      "display_name": "Python 3"
    },
    "language_info": {
      "name": "python"
    }
  },
  "cells": [
    {
      "cell_type": "markdown",
      "metadata": {
        "id": "view-in-github",
        "colab_type": "text"
      },
      "source": [
        "<a href=\"https://colab.research.google.com/github/satani99/fastai_22_2/blob/main/nn_from_scratch.ipynb\" target=\"_parent\"><img src=\"https://colab.research.google.com/assets/colab-badge.svg\" alt=\"Open In Colab\"/></a>"
      ]
    },
    {
      "cell_type": "code",
      "source": [
        "import torch\n",
        "from torch import tensor"
      ],
      "metadata": {
        "id": "G2jz0xTDXKph"
      },
      "execution_count": 3,
      "outputs": []
    },
    {
      "cell_type": "code",
      "source": [
        "def matmul(a, b):\n",
        "  ar, ac = a.shape\n",
        "  br, bc = b.shape\n",
        "  assert ac==br\n",
        "  c = torch.zeros(ar, bc)\n",
        "  for i in range(ar):\n",
        "    for j in range(bc):\n",
        "      for k in range(ac): c[i,j] += a[i,k] * b[k,j]\n",
        "  return c\n"
      ],
      "metadata": {
        "id": "dGoL_-2GmyyO"
      },
      "execution_count": 4,
      "outputs": []
    },
    {
      "cell_type": "code",
      "source": [
        "m1 = torch.randn(5, 28*28)\n",
        "m2 = torch.randn(784, 10)"
      ],
      "metadata": {
        "id": "I8xgCRQCn7oK"
      },
      "execution_count": 5,
      "outputs": []
    },
    {
      "cell_type": "code",
      "source": [
        "%time t1 = matmul(m1, m2)"
      ],
      "metadata": {
        "colab": {
          "base_uri": "https://localhost:8080/"
        },
        "id": "j6bDgCPzyF9-",
        "outputId": "10a95033-7ac9-4249-a3a7-95449caa01d0"
      },
      "execution_count": 6,
      "outputs": [
        {
          "output_type": "stream",
          "name": "stdout",
          "text": [
            "CPU times: user 1.56 s, sys: 2.41 ms, total: 1.56 s\n",
            "Wall time: 1.66 s\n"
          ]
        }
      ]
    },
    {
      "cell_type": "code",
      "source": [
        " %timeit -n 20 t2=m1@m2"
      ],
      "metadata": {
        "colab": {
          "base_uri": "https://localhost:8080/"
        },
        "id": "EhCgUN6xyMgm",
        "outputId": "ed0d4f5c-f008-42bb-8d4e-568f807628e6"
      },
      "execution_count": 7,
      "outputs": [
        {
          "output_type": "stream",
          "name": "stdout",
          "text": [
            "The slowest run took 185.53 times longer than the fastest. This could mean that an intermediate result is being cached.\n",
            "164 µs ± 385 µs per loop (mean ± std. dev. of 7 runs, 20 loops each)\n"
          ]
        }
      ]
    },
    {
      "cell_type": "code",
      "source": [
        "a = tensor([10., 6, -4])\n",
        "b = tensor([2., 8, 7])\n",
        "a + b"
      ],
      "metadata": {
        "colab": {
          "base_uri": "https://localhost:8080/"
        },
        "id": "Qikw1vln1wgf",
        "outputId": "78bd3d4a-0137-494a-9d20-28125a099966"
      },
      "execution_count": 8,
      "outputs": [
        {
          "output_type": "execute_result",
          "data": {
            "text/plain": [
              "tensor([12., 14.,  3.])"
            ]
          },
          "metadata": {},
          "execution_count": 8
        }
      ]
    },
    {
      "cell_type": "code",
      "source": [
        "a < b"
      ],
      "metadata": {
        "colab": {
          "base_uri": "https://localhost:8080/"
        },
        "id": "VMg89t633J1E",
        "outputId": "db8c1910-3063-4e30-93a3-e82b95289402"
      },
      "execution_count": 9,
      "outputs": [
        {
          "output_type": "execute_result",
          "data": {
            "text/plain": [
              "tensor([False,  True,  True])"
            ]
          },
          "metadata": {},
          "execution_count": 9
        }
      ]
    },
    {
      "cell_type": "code",
      "source": [
        "(a < b).all(), (a == b).all()"
      ],
      "metadata": {
        "colab": {
          "base_uri": "https://localhost:8080/"
        },
        "id": "_AKDrAwd3ROz",
        "outputId": "8346f632-9452-4fb6-9f9e-04f7b42e7909"
      },
      "execution_count": 10,
      "outputs": [
        {
          "output_type": "execute_result",
          "data": {
            "text/plain": [
              "(tensor(False), tensor(False))"
            ]
          },
          "metadata": {},
          "execution_count": 10
        }
      ]
    },
    {
      "cell_type": "code",
      "source": [
        "(a + b).mean().item()"
      ],
      "metadata": {
        "colab": {
          "base_uri": "https://localhost:8080/"
        },
        "id": "Tq39Hc4d3YdQ",
        "outputId": "ffc144aa-0ebf-4069-cb0b-500cdacc05e4"
      },
      "execution_count": 11,
      "outputs": [
        {
          "output_type": "execute_result",
          "data": {
            "text/plain": [
              "9.666666984558105"
            ]
          },
          "metadata": {},
          "execution_count": 11
        }
      ]
    },
    {
      "cell_type": "code",
      "source": [
        "m = tensor([[1., 2, 3], [4, 5, 6], [7, 8, 9]])\n",
        "m*m"
      ],
      "metadata": {
        "colab": {
          "base_uri": "https://localhost:8080/"
        },
        "id": "Q0LmDUu03hOU",
        "outputId": "5f90758b-f446-4a27-b6ce-31a93c9ee021"
      },
      "execution_count": 13,
      "outputs": [
        {
          "output_type": "execute_result",
          "data": {
            "text/plain": [
              "tensor([[ 1.,  4.,  9.],\n",
              "        [16., 25., 36.],\n",
              "        [49., 64., 81.]])"
            ]
          },
          "metadata": {},
          "execution_count": 13
        }
      ]
    },
    {
      "cell_type": "code",
      "source": [
        "def matmul(a, b):\n",
        "  ar, ac = a.shape\n",
        "  br, bc = b.shape\n",
        "  assert ac==br\n",
        "  c = torch.zeros(ar, bc)\n",
        "  for i in range(ar):\n",
        "    for j in range(bc):\n",
        "      c[i,j] = (a[i] * b[:,j]).sum()\n",
        "    return c\n",
        "\n",
        "%timeit -n 20 t3 = matmul(m1, m2)"
      ],
      "metadata": {
        "colab": {
          "base_uri": "https://localhost:8080/"
        },
        "id": "wkkhVAjr3qGW",
        "outputId": "bfacd81a-5b96-4799-b439-075d2f86a758"
      },
      "execution_count": 14,
      "outputs": [
        {
          "output_type": "stream",
          "name": "stdout",
          "text": [
            "311 µs ± 161 µs per loop (mean ± std. dev. of 7 runs, 20 loops each)\n"
          ]
        }
      ]
    },
    {
      "cell_type": "code",
      "source": [
        "a = tensor([10., 6, -4])\n",
        "a > 0"
      ],
      "metadata": {
        "colab": {
          "base_uri": "https://localhost:8080/"
        },
        "id": "zgsWWR3f6QZ6",
        "outputId": "f06929d2-9871-48ea-b7af-64d95e47acf0"
      },
      "execution_count": 15,
      "outputs": [
        {
          "output_type": "execute_result",
          "data": {
            "text/plain": [
              "tensor([ True,  True, False])"
            ]
          },
          "metadata": {},
          "execution_count": 15
        }
      ]
    },
    {
      "cell_type": "code",
      "source": [
        "m = tensor([[1., 2, 3], [4, 5, 6], [7, 8, 9]])\n",
        "(m-5) / 2.73"
      ],
      "metadata": {
        "colab": {
          "base_uri": "https://localhost:8080/"
        },
        "id": "h34e2xAw71c0",
        "outputId": "dfa0a1bb-f73e-4e81-eb82-093bb9eb49cd"
      },
      "execution_count": 16,
      "outputs": [
        {
          "output_type": "execute_result",
          "data": {
            "text/plain": [
              "tensor([[-1.4652, -1.0989, -0.7326],\n",
              "        [-0.3663,  0.0000,  0.3663],\n",
              "        [ 0.7326,  1.0989,  1.4652]])"
            ]
          },
          "metadata": {},
          "execution_count": 16
        }
      ]
    },
    {
      "cell_type": "code",
      "source": [
        "c = tensor([10., 20, 30])\n",
        "m = tensor([[1., 2, 3], [4, 5, 6], [7, 8, 9]])\n",
        "m.shape, c.shape"
      ],
      "metadata": {
        "colab": {
          "base_uri": "https://localhost:8080/"
        },
        "id": "WfQJDVgh8tUo",
        "outputId": "032a4168-0b15-4588-9722-7992ecbe4d72"
      },
      "execution_count": 17,
      "outputs": [
        {
          "output_type": "execute_result",
          "data": {
            "text/plain": [
              "(torch.Size([3, 3]), torch.Size([3]))"
            ]
          },
          "metadata": {},
          "execution_count": 17
        }
      ]
    },
    {
      "cell_type": "code",
      "source": [
        "m + c"
      ],
      "metadata": {
        "colab": {
          "base_uri": "https://localhost:8080/"
        },
        "id": "sgYMXIDB9ClT",
        "outputId": "357aa0f8-963e-4b67-9118-8f10aa614839"
      },
      "execution_count": 18,
      "outputs": [
        {
          "output_type": "execute_result",
          "data": {
            "text/plain": [
              "tensor([[11., 22., 33.],\n",
              "        [14., 25., 36.],\n",
              "        [17., 28., 39.]])"
            ]
          },
          "metadata": {},
          "execution_count": 18
        }
      ]
    },
    {
      "cell_type": "code",
      "source": [
        "c.expand_as(m)"
      ],
      "metadata": {
        "colab": {
          "base_uri": "https://localhost:8080/"
        },
        "id": "QCY1ZHh79EI6",
        "outputId": "1759be05-f888-4f4b-9673-572ebbcc5ab1"
      },
      "execution_count": 19,
      "outputs": [
        {
          "output_type": "execute_result",
          "data": {
            "text/plain": [
              "tensor([[10., 20., 30.],\n",
              "        [10., 20., 30.],\n",
              "        [10., 20., 30.]])"
            ]
          },
          "metadata": {},
          "execution_count": 19
        }
      ]
    },
    {
      "cell_type": "code",
      "source": [
        "t = c.expand_as(m)\n",
        "t.storage()"
      ],
      "metadata": {
        "colab": {
          "base_uri": "https://localhost:8080/"
        },
        "id": "2t1imX_n9N5o",
        "outputId": "239796c6-1bc3-4057-b1e3-75a195b596cb"
      },
      "execution_count": 20,
      "outputs": [
        {
          "output_type": "stream",
          "name": "stderr",
          "text": [
            "<ipython-input-20-b579dd4930e5>:2: UserWarning: TypedStorage is deprecated. It will be removed in the future and UntypedStorage will be the only storage class. This should only matter to you if you are using storages directly.  To access UntypedStorage directly, use tensor.untyped_storage() instead of tensor.storage()\n",
            "  t.storage()\n"
          ]
        },
        {
          "output_type": "execute_result",
          "data": {
            "text/plain": [
              " 10.0\n",
              " 20.0\n",
              " 30.0\n",
              "[torch.storage.TypedStorage(dtype=torch.float32, device=cpu) of size 3]"
            ]
          },
          "metadata": {},
          "execution_count": 20
        }
      ]
    },
    {
      "cell_type": "code",
      "source": [
        "t.stride(), t.shape"
      ],
      "metadata": {
        "colab": {
          "base_uri": "https://localhost:8080/"
        },
        "id": "4akxdSUt9Vfe",
        "outputId": "c53b82b0-f8fd-4222-8103-ece5cd5ab936"
      },
      "execution_count": 21,
      "outputs": [
        {
          "output_type": "execute_result",
          "data": {
            "text/plain": [
              "((0, 1), torch.Size([3, 3]))"
            ]
          },
          "metadata": {},
          "execution_count": 21
        }
      ]
    },
    {
      "cell_type": "code",
      "source": [
        "c = tensor([10., 20, 30])\n",
        "m = tensor([[1., 2, 3], [4, 5, 6], [7, 8, 9]])\n",
        "c = c.unsqueeze(1)\n",
        "m.shape, c.shape"
      ],
      "metadata": {
        "colab": {
          "base_uri": "https://localhost:8080/"
        },
        "id": "9NERTkXb9xyi",
        "outputId": "88fbc2a9-f548-4404-fffd-b5266c904040"
      },
      "execution_count": 22,
      "outputs": [
        {
          "output_type": "execute_result",
          "data": {
            "text/plain": [
              "(torch.Size([3, 3]), torch.Size([3, 1]))"
            ]
          },
          "metadata": {},
          "execution_count": 22
        }
      ]
    },
    {
      "cell_type": "code",
      "source": [
        "c+m"
      ],
      "metadata": {
        "colab": {
          "base_uri": "https://localhost:8080/"
        },
        "id": "W6VaynQS-WN_",
        "outputId": "139dd326-8427-47a1-ef91-3d9140142b2d"
      },
      "execution_count": 23,
      "outputs": [
        {
          "output_type": "execute_result",
          "data": {
            "text/plain": [
              "tensor([[11., 12., 13.],\n",
              "        [24., 25., 26.],\n",
              "        [37., 38., 39.]])"
            ]
          },
          "metadata": {},
          "execution_count": 23
        }
      ]
    },
    {
      "cell_type": "code",
      "source": [
        "c = tensor([10., 20, 30])\n",
        "c.shape, c.unsqueeze(0).shape, c.unsqueeze(1).shape"
      ],
      "metadata": {
        "colab": {
          "base_uri": "https://localhost:8080/"
        },
        "id": "mfwZINs--irG",
        "outputId": "cc519ebf-e6e7-45ed-aad5-3ab3c08acdae"
      },
      "execution_count": 24,
      "outputs": [
        {
          "output_type": "execute_result",
          "data": {
            "text/plain": [
              "(torch.Size([3]), torch.Size([1, 3]), torch.Size([3, 1]))"
            ]
          },
          "metadata": {},
          "execution_count": 24
        }
      ]
    },
    {
      "cell_type": "code",
      "source": [
        "c.shape, c[None, :].shape, c[:, None].shape"
      ],
      "metadata": {
        "colab": {
          "base_uri": "https://localhost:8080/"
        },
        "id": "k-ClwgAi_FYT",
        "outputId": "8683704f-31b7-42af-d145-8fea61be4f30"
      },
      "execution_count": 25,
      "outputs": [
        {
          "output_type": "execute_result",
          "data": {
            "text/plain": [
              "(torch.Size([3]), torch.Size([1, 3]), torch.Size([3, 1]))"
            ]
          },
          "metadata": {},
          "execution_count": 25
        }
      ]
    },
    {
      "cell_type": "code",
      "source": [
        "def matmul(a, b):\n",
        "  ar, ac = a.shape\n",
        "  br, bc = b.shape\n",
        "  assert ac == br\n",
        "  c = torch.zeros(ar, bc)\n",
        "  for i in range(ar):\n",
        "    c[i] = (a[i].unsqueeze(-1) * b).sum(dim=0)\n",
        "  return c\n",
        "\n",
        "%timeit -n 20 t4 = matmul(m1, m2)"
      ],
      "metadata": {
        "colab": {
          "base_uri": "https://localhost:8080/"
        },
        "id": "rGbJJeKa_L8h",
        "outputId": "c9862875-d44d-4825-a0dc-5c4e44e67715"
      },
      "execution_count": 26,
      "outputs": [
        {
          "output_type": "stream",
          "name": "stdout",
          "text": [
            "207 µs ± 96.3 µs per loop (mean ± std. dev. of 7 runs, 20 loops each)\n"
          ]
        }
      ]
    },
    {
      "cell_type": "code",
      "source": [],
      "metadata": {
        "colab": {
          "base_uri": "https://localhost:8080/"
        },
        "id": "REc38ib__yRO",
        "outputId": "13fb647f-7d2f-462a-e1fc-ea4d651f8b81"
      },
      "execution_count": 37,
      "outputs": [
        {
          "output_type": "execute_result",
          "data": {
            "text/plain": [
              "torch.Size([10])"
            ]
          },
          "metadata": {},
          "execution_count": 37
        }
      ]
    },
    {
      "cell_type": "code",
      "source": [],
      "metadata": {
        "colab": {
          "base_uri": "https://localhost:8080/"
        },
        "id": "uXoGp4J2AwVB",
        "outputId": "a715d77a-648e-4b9c-eaac-580ea7818641"
      },
      "execution_count": 34,
      "outputs": [
        {
          "output_type": "execute_result",
          "data": {
            "text/plain": [
              "torch.Size([784, 10])"
            ]
          },
          "metadata": {},
          "execution_count": 34
        }
      ]
    },
    {
      "cell_type": "code",
      "source": [],
      "metadata": {
        "id": "209rjFyrBMSR"
      },
      "execution_count": null,
      "outputs": []
    }
  ]
}