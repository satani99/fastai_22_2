{
  "nbformat": 4,
  "nbformat_minor": 0,
  "metadata": {
    "colab": {
      "provenance": [],
      "authorship_tag": "ABX9TyMkVhzpKzh1NZmwtl5Xo7eY",
      "include_colab_link": true
    },
    "kernelspec": {
      "name": "python3",
      "display_name": "Python 3"
    },
    "language_info": {
      "name": "python"
    }
  },
  "cells": [
    {
      "cell_type": "markdown",
      "metadata": {
        "id": "view-in-github",
        "colab_type": "text"
      },
      "source": [
        "<a href=\"https://colab.research.google.com/github/satani99/fastai_22_2/blob/main/Convolutions.ipynb\" target=\"_parent\"><img src=\"https://colab.research.google.com/assets/colab-badge.svg\" alt=\"Open In Colab\"/></a>"
      ]
    },
    {
      "cell_type": "code",
      "source": [
        "!git clone https://github.com/fastai/course22p2.git"
      ],
      "metadata": {
        "colab": {
          "base_uri": "https://localhost:8080/"
        },
        "id": "U5dB9xbEewf6",
        "outputId": "68ac47cb-d3e3-475b-c263-23d4f021bf08"
      },
      "execution_count": 7,
      "outputs": [
        {
          "output_type": "stream",
          "name": "stdout",
          "text": [
            "Cloning into 'course22p2'...\n",
            "remote: Enumerating objects: 1176, done.\u001b[K\n",
            "remote: Counting objects: 100% (1176/1176), done.\u001b[K\n",
            "remote: Compressing objects: 100% (480/480), done.\u001b[K\n",
            "remote: Total 1176 (delta 712), reused 1117 (delta 694), pack-reused 0\u001b[K\n",
            "Receiving objects: 100% (1176/1176), 99.81 MiB | 26.28 MiB/s, done.\n",
            "Resolving deltas: 100% (712/712), done.\n"
          ]
        }
      ]
    },
    {
      "cell_type": "code",
      "source": [
        "%cd course22p2"
      ],
      "metadata": {
        "colab": {
          "base_uri": "https://localhost:8080/"
        },
        "id": "4ZtjmTjwfJcq",
        "outputId": "597e9bf1-d5bd-4530-89cf-07da127a4f39"
      },
      "execution_count": 10,
      "outputs": [
        {
          "output_type": "stream",
          "name": "stdout",
          "text": [
            "/content/course22p2\n"
          ]
        }
      ]
    },
    {
      "cell_type": "code",
      "source": [
        "!wget https://github.com/mnielsen/neural-networks-and-deep-learning/raw/master/data/mnist.pkl.gz"
      ],
      "metadata": {
        "colab": {
          "base_uri": "https://localhost:8080/"
        },
        "id": "4_uHJRR8iSi5",
        "outputId": "9a1055e5-3751-461a-f3fe-56f454f69a7f"
      },
      "execution_count": 18,
      "outputs": [
        {
          "output_type": "stream",
          "name": "stdout",
          "text": [
            "--2023-08-18 12:05:24--  https://github.com/mnielsen/neural-networks-and-deep-learning/raw/master/data/mnist.pkl.gz\n",
            "Resolving github.com (github.com)... 140.82.112.3\n",
            "Connecting to github.com (github.com)|140.82.112.3|:443... connected.\n",
            "HTTP request sent, awaiting response... 302 Found\n",
            "Location: https://raw.githubusercontent.com/mnielsen/neural-networks-and-deep-learning/master/data/mnist.pkl.gz [following]\n",
            "--2023-08-18 12:05:24--  https://raw.githubusercontent.com/mnielsen/neural-networks-and-deep-learning/master/data/mnist.pkl.gz\n",
            "Resolving raw.githubusercontent.com (raw.githubusercontent.com)... 185.199.108.133, 185.199.109.133, 185.199.110.133, ...\n",
            "Connecting to raw.githubusercontent.com (raw.githubusercontent.com)|185.199.108.133|:443... connected.\n",
            "HTTP request sent, awaiting response... 200 OK\n",
            "Length: 17051982 (16M) [application/octet-stream]\n",
            "Saving to: ‘mnist.pkl.gz’\n",
            "\n",
            "mnist.pkl.gz        100%[===================>]  16.26M  --.-KB/s    in 0.1s    \n",
            "\n",
            "2023-08-18 12:05:25 (135 MB/s) - ‘mnist.pkl.gz’ saved [17051982/17051982]\n",
            "\n"
          ]
        }
      ]
    },
    {
      "cell_type": "code",
      "source": [
        "import torch\n",
        "from torch import nn\n",
        "\n",
        "from torch.utils.data import default_collate\n",
        "from typing import Mapping\n",
        "\n",
        "from miniai.training import *\n",
        "from miniai.datasets import *"
      ],
      "metadata": {
        "id": "xavlNydogIE-"
      },
      "execution_count": 13,
      "outputs": []
    },
    {
      "cell_type": "code",
      "source": [
        "import pickle, gzip, math, os, time, shutil, torch, matplotlib as mpl, numpy as np\n",
        "import pandas as pd, matplotlib.pyplot as plt\n",
        "from pathlib import Path\n",
        "from torch import tensor\n",
        "\n",
        "from torch.utils.data import DataLoader\n",
        "from typing import Mapping"
      ],
      "metadata": {
        "id": "tpxk1sfIgNq8"
      },
      "execution_count": 15,
      "outputs": []
    },
    {
      "cell_type": "code",
      "source": [
        "mpl.rcParams['image.cmap'] = 'gray'"
      ],
      "metadata": {
        "id": "_OydV4ZFg2H7"
      },
      "execution_count": 16,
      "outputs": []
    },
    {
      "cell_type": "code",
      "source": [
        "path_data = Path('./')\n",
        "path_gz = path_data/'mnist.pkl.gz'\n",
        "with gzip.open(path_gz, 'rb') as f: ((x_train, y_train), (x_valid, y_valid), _) = pickle.load(f, encoding='latin-1')\n",
        "x_train, y_train, x_valid, y_valid = map(tensor, [x_train, y_train, x_valid, y_valid])\n"
      ],
      "metadata": {
        "id": "A-_KpJY2hqR0"
      },
      "execution_count": 21,
      "outputs": []
    },
    {
      "cell_type": "code",
      "source": [
        "x_imgs = x_train.view(-1, 28, 28)\n",
        "xv_imgs = x_valid.view(-1, 28, 28)"
      ],
      "metadata": {
        "id": "i2IPE7YCiE-y"
      },
      "execution_count": 22,
      "outputs": []
    },
    {
      "cell_type": "code",
      "source": [
        "mpl.rcParams['figure.dpi'] = 30"
      ],
      "metadata": {
        "id": "q5pnTWUCodEG"
      },
      "execution_count": 23,
      "outputs": []
    },
    {
      "cell_type": "code",
      "source": [
        "im3 = x_imgs[7]\n",
        "show_image(im3);"
      ],
      "metadata": {
        "colab": {
          "base_uri": "https://localhost:8080/",
          "height": 133
        },
        "id": "Prr6puozohtN",
        "outputId": "e15d3e71-7041-46e3-dfe1-df3ecf6e0d45"
      },
      "execution_count": 25,
      "outputs": [
        {
          "output_type": "display_data",
          "data": {
            "text/plain": [
              "<Figure size 192x144 with 1 Axes>"
            ],
            "image/png": "[encoded data removed]"
          },
          "metadata": {}
        }
      ]
    },
    {
      "cell_type": "code",
      "source": [
        "top_edge = tensor([[-1, -1, -1],\n",
        "                   [0, 0, 0],\n",
        "                   [1, 1, 1]]).float()"
      ],
      "metadata": {
        "id": "mFTH2W84ojdr"
      },
      "execution_count": 26,
      "outputs": []
    },
    {
      "cell_type": "code",
      "source": [
        "show_image(top_edge, noframe=False);"
      ],
      "metadata": {
        "colab": {
          "base_uri": "https://localhost:8080/",
          "height": 133
        },
        "id": "gm9ThW9Ypft7",
        "outputId": "dfd9e2f9-9953-4c5c-c405-50200b708c6d"
      },
      "execution_count": 27,
      "outputs": [
        {
          "output_type": "display_data",
          "data": {
            "text/plain": [
              "<Figure size 192x144 with 1 Axes>"
            ],
            "image/png": "[encoded data removed]"
          },
          "metadata": {}
        }
      ]
    },
    {
      "cell_type": "code",
      "source": [
        "df = pd.DataFrame(im3[:13, :23])\n",
        "df.style.format(precision=2).set_properties(**{'font-size':'7pt'}).background_gradient('Greys')"
      ],
      "metadata": {
        "colab": {
          "base_uri": "https://localhost:8080/",
          "height": 477
        },
        "id": "uiPPX-3spoGB",
        "outputId": "35712ac0-df2b-4bfa-d0ac-23505d860cf0"
      },
      "execution_count": 29,
      "outputs": [
        {
          "output_type": "execute_result",
          "data": {
            "text/plain": [
              "<pandas.io.formats.style.Styler at 0x79a1a0c2ffa0>"
            ],
            "text/html": [
              "<style type=\"text/css\">\n",
              "#T_756a0_row0_col0, #T_756a0_row0_col1, #T_756a0_row0_col2, #T_756a0_row0_col3, #T_756a0_row0_col4, #T_756a0_row0_col5, #T_756a0_row0_col6, #T_756a0_row0_col7, #T_756a0_row0_col8, #T_756a0_row0_col9, #T_756a0_row0_col10, #T_756a0_row0_col11, #T_756a0_row0_col12, #T_756a0_row0_col13, #T_756a0_row0_col14, #T_756a0_row0_col15, #T_756a0_row0_col16, #T_756a0_row0_col17, #T_756a0_row0_col18, #T_756a0_row0_col19, #T_756a0_row0_col20, #T_756a0_row0_col21, #T_756a0_row0_col22, #T_756a0_row1_col0, #T_756a0_row1_col1, #T_756a0_row1_col2, #T_756a0_row1_col3, #T_756a0_row1_col4, #T_756a0_row1_col5, #T_756a0_row1_col6, #T_756a0_row1_col7, #T_756a0_row1_col8, #T_756a0_row1_col9, #T_756a0_row1_col10, #T_756a0_row1_col11, #T_756a0_row1_col12, #T_756a0_row1_col13, #T_756a0_row1_col14, #T_756a0_row1_col15, #T_756a0_row1_col16, #T_756a0_row1_col17, #T_756a0_row1_col18, #T_756a0_row1_col19, #T_756a0_row1_col20, #T_756a0_row1_col21, #T_756a0_row1_col22, #T_756a0_row2_col0, #T_756a0_row2_col1, #T_756a0_row2_col2, #T_756a0_row2_col3, #T_756a0_row2_col4, #T_756a0_row2_col5, #T_756a0_row2_col6, #T_756a0_row2_col7, #T_756a0_row2_col8, #T_756a0_row2_col9, #T_756a0_row2_col10, #T_756a0_row2_col11, #T_756a0_row2_col12, #T_756a0_row2_col13, #T_756a0_row2_col14, #T_756a0_row2_col15, #T_756a0_row2_col16, #T_756a0_row2_col17, #T_756a0_row2_col18, #T_756a0_row2_col19, #T_756a0_row2_col20, #T_756a0_row2_col21, #T_756a0_row2_col22, #T_756a0_row3_col0, #T_756a0_row3_col1, #T_756a0_row3_col2, #T_756a0_row3_col3, #T_756a0_row3_col4, #T_756a0_row3_col5, #T_756a0_row3_col6, #T_756a0_row3_col7, #T_756a0_row3_col8, #T_756a0_row3_col9, #T_756a0_row3_col10, #T_756a0_row3_col11, #T_756a0_row3_col12, #T_756a0_row3_col13, #T_756a0_row3_col14, #T_756a0_row3_col15, #T_756a0_row3_col16, #T_756a0_row3_col17, #T_756a0_row3_col18, #T_756a0_row3_col19, #T_756a0_row3_col20, #T_756a0_row3_col21, #T_756a0_row3_col22, #T_756a0_row4_col0, #T_756a0_row4_col1, #T_756a0_row4_col2, #T_756a0_row4_col3, #T_756a0_row4_col4, #T_756a0_row4_col5, #T_756a0_row4_col6, #T_756a0_row4_col7, #T_756a0_row4_col8, #T_756a0_row4_col9, #T_756a0_row4_col10, #T_756a0_row4_col11, #T_756a0_row4_col12, #T_756a0_row4_col13, #T_756a0_row4_col14, #T_756a0_row4_col15, #T_756a0_row4_col16, #T_756a0_row4_col17, #T_756a0_row4_col18, #T_756a0_row4_col19, #T_756a0_row4_col20, #T_756a0_row4_col21, #T_756a0_row4_col22, #T_756a0_row5_col0, #T_756a0_row5_col1, #T_756a0_row5_col2, #T_756a0_row5_col3, #T_756a0_row5_col4, #T_756a0_row5_col5, #T_756a0_row5_col6, #T_756a0_row5_col7, #T_756a0_row5_col8, #T_756a0_row5_col9, #T_756a0_row5_col10, #T_756a0_row5_col22, #T_756a0_row6_col0, #T_756a0_row6_col1, #T_756a0_row6_col2, #T_756a0_row6_col3, #T_756a0_row6_col4, #T_756a0_row6_col5, #T_756a0_row6_col6, #T_756a0_row6_col7, #T_756a0_row6_col8, #T_756a0_row7_col0, #T_756a0_row7_col1, #T_756a0_row7_col2, #T_756a0_row7_col3, #T_756a0_row7_col4, #T_756a0_row7_col5, #T_756a0_row7_col6, #T_756a0_row7_col7, #T_756a0_row7_col8, #T_756a0_row8_col0, #T_756a0_row8_col1, #T_756a0_row8_col2, #T_756a0_row8_col3, #T_756a0_row8_col4, #T_756a0_row8_col5, #T_756a0_row8_col6, #T_756a0_row8_col7, #T_756a0_row8_col8, #T_756a0_row9_col0, #T_756a0_row9_col1, #T_756a0_row9_col2, #T_756a0_row9_col3, #T_756a0_row9_col4, #T_756a0_row9_col5, #T_756a0_row9_col6, #T_756a0_row9_col7, #T_756a0_row9_col8, #T_756a0_row9_col13, #T_756a0_row9_col14, #T_756a0_row9_col15, #T_756a0_row9_col16, #T_756a0_row10_col0, #T_756a0_row10_col1, #T_756a0_row10_col2, #T_756a0_row10_col3, #T_756a0_row10_col4, #T_756a0_row10_col5, #T_756a0_row10_col6, #T_756a0_row10_col7, #T_756a0_row10_col8, #T_756a0_row10_col9, #T_756a0_row10_col10, #T_756a0_row10_col11, #T_756a0_row10_col12, #T_756a0_row10_col13, #T_756a0_row10_col14, #T_756a0_row10_col15, #T_756a0_row10_col16, #T_756a0_row10_col22, #T_756a0_row11_col0, #T_756a0_row11_col1, #T_756a0_row11_col2, #T_756a0_row11_col3, #T_756a0_row11_col4, #T_756a0_row11_col5, #T_756a0_row11_col6, #T_756a0_row11_col7, #T_756a0_row11_col8, #T_756a0_row11_col9, #T_756a0_row11_col10, #T_756a0_row11_col11, #T_756a0_row11_col12, #T_756a0_row11_col13, #T_756a0_row11_col14, #T_756a0_row11_col15, #T_756a0_row11_col22, #T_756a0_row12_col0, #T_756a0_row12_col1, #T_756a0_row12_col2, #T_756a0_row12_col3, #T_756a0_row12_col4, #T_756a0_row12_col5, #T_756a0_row12_col6, #T_756a0_row12_col7, #T_756a0_row12_col8, #T_756a0_row12_col9, #T_756a0_row12_col10, #T_756a0_row12_col11, #T_756a0_row12_col12, #T_756a0_row12_col13, #T_756a0_row12_col22 {\n",
              "  font-size: 7pt;\n",
              "  background-color: #ffffff;\n",
              "  color: #000000;\n",
              "}\n",
              "#T_756a0_row5_col11 {\n",
              "  font-size: 7pt;\n",
              "  background-color: #ececec;\n",
              "  color: #000000;\n",
              "}\n",
              "#T_756a0_row5_col12 {\n",
              "  font-size: 7pt;\n",
              "  background-color: #e8e8e8;\n",
              "  color: #000000;\n",
              "}\n",
              "#T_756a0_row5_col13 {\n",
              "  font-size: 7pt;\n",
              "  background-color: #b0b0b0;\n",
              "  color: #000000;\n",
              "}\n",
              "#T_756a0_row5_col14, #T_756a0_row5_col15, #T_756a0_row5_col16, #T_756a0_row5_col17, #T_756a0_row5_col18, #T_756a0_row5_col19, #T_756a0_row6_col13, #T_756a0_row6_col20, #T_756a0_row7_col9, #T_756a0_row7_col10, #T_756a0_row7_col11, #T_756a0_row7_col12, #T_756a0_row7_col13, #T_756a0_row7_col20, #T_756a0_row7_col21, #T_756a0_row7_col22, #T_756a0_row8_col10, #T_756a0_row8_col11, #T_756a0_row8_col20, #T_756a0_row8_col21, #T_756a0_row8_col22, #T_756a0_row9_col20, #T_756a0_row10_col20, #T_756a0_row11_col20 {\n",
              "  font-size: 7pt;\n",
              "  background-color: #000000;\n",
              "  color: #f1f1f1;\n",
              "}\n",
              "#T_756a0_row5_col20 {\n",
              "  font-size: 7pt;\n",
              "  background-color: #626262;\n",
              "  color: #f1f1f1;\n",
              "}\n",
              "#T_756a0_row5_col21 {\n",
              "  font-size: 7pt;\n",
              "  background-color: #fcfcfc;\n",
              "  color: #000000;\n",
              "}\n",
              "#T_756a0_row6_col9 {\n",
              "  font-size: 7pt;\n",
              "  background-color: #dbdbdb;\n",
              "  color: #000000;\n",
              "}\n",
              "#T_756a0_row6_col10 {\n",
              "  font-size: 7pt;\n",
              "  background-color: #878787;\n",
              "  color: #f1f1f1;\n",
              "}\n",
              "#T_756a0_row6_col11 {\n",
              "  font-size: 7pt;\n",
              "  background-color: #212121;\n",
              "  color: #f1f1f1;\n",
              "}\n",
              "#T_756a0_row6_col12 {\n",
              "  font-size: 7pt;\n",
              "  background-color: #1e1e1e;\n",
              "  color: #f1f1f1;\n",
              "}\n",
              "#T_756a0_row6_col14, #T_756a0_row7_col14 {\n",
              "  font-size: 7pt;\n",
              "  background-color: #020202;\n",
              "  color: #f1f1f1;\n",
              "}\n",
              "#T_756a0_row6_col15, #T_756a0_row6_col16, #T_756a0_row6_col17, #T_756a0_row6_col18, #T_756a0_row6_col19, #T_756a0_row7_col15, #T_756a0_row7_col16, #T_756a0_row7_col17, #T_756a0_row7_col18, #T_756a0_row7_col19, #T_756a0_row8_col18, #T_756a0_row8_col19, #T_756a0_row9_col19, #T_756a0_row10_col19, #T_756a0_row11_col18, #T_756a0_row11_col19, #T_756a0_row12_col17, #T_756a0_row12_col18, #T_756a0_row12_col19 {\n",
              "  font-size: 7pt;\n",
              "  background-color: #010101;\n",
              "  color: #f1f1f1;\n",
              "}\n",
              "#T_756a0_row6_col21 {\n",
              "  font-size: 7pt;\n",
              "  background-color: #727272;\n",
              "  color: #f1f1f1;\n",
              "}\n",
              "#T_756a0_row6_col22 {\n",
              "  font-size: 7pt;\n",
              "  background-color: #dcdcdc;\n",
              "  color: #000000;\n",
              "}\n",
              "#T_756a0_row8_col9 {\n",
              "  font-size: 7pt;\n",
              "  background-color: #777777;\n",
              "  color: #f1f1f1;\n",
              "}\n",
              "#T_756a0_row8_col12 {\n",
              "  font-size: 7pt;\n",
              "  background-color: #1a1a1a;\n",
              "  color: #f1f1f1;\n",
              "}\n",
              "#T_756a0_row8_col13 {\n",
              "  font-size: 7pt;\n",
              "  background-color: #8f8f8f;\n",
              "  color: #f1f1f1;\n",
              "}\n",
              "#T_756a0_row8_col14, #T_756a0_row8_col15, #T_756a0_row8_col16 {\n",
              "  font-size: 7pt;\n",
              "  background-color: #909090;\n",
              "  color: #f1f1f1;\n",
              "}\n",
              "#T_756a0_row8_col17, #T_756a0_row11_col17 {\n",
              "  font-size: 7pt;\n",
              "  background-color: #525252;\n",
              "  color: #f1f1f1;\n",
              "}\n",
              "#T_756a0_row9_col9 {\n",
              "  font-size: 7pt;\n",
              "  background-color: #fdfdfd;\n",
              "  color: #000000;\n",
              "}\n",
              "#T_756a0_row9_col10, #T_756a0_row9_col11, #T_756a0_row9_col22 {\n",
              "  font-size: 7pt;\n",
              "  background-color: #f1f1f1;\n",
              "  color: #000000;\n",
              "}\n",
              "#T_756a0_row9_col12 {\n",
              "  font-size: 7pt;\n",
              "  background-color: #f4f4f4;\n",
              "  color: #000000;\n",
              "}\n",
              "#T_756a0_row9_col17, #T_756a0_row11_col21 {\n",
              "  font-size: 7pt;\n",
              "  background-color: #f8f8f8;\n",
              "  color: #000000;\n",
              "}\n",
              "#T_756a0_row9_col18 {\n",
              "  font-size: 7pt;\n",
              "  background-color: #1f1f1f;\n",
              "  color: #f1f1f1;\n",
              "}\n",
              "#T_756a0_row9_col21 {\n",
              "  font-size: 7pt;\n",
              "  background-color: #646464;\n",
              "  color: #f1f1f1;\n",
              "}\n",
              "#T_756a0_row10_col17 {\n",
              "  font-size: 7pt;\n",
              "  background-color: #c5c5c5;\n",
              "  color: #000000;\n",
              "}\n",
              "#T_756a0_row10_col18 {\n",
              "  font-size: 7pt;\n",
              "  background-color: #0c0c0c;\n",
              "  color: #f1f1f1;\n",
              "}\n",
              "#T_756a0_row10_col21 {\n",
              "  font-size: 7pt;\n",
              "  background-color: #828282;\n",
              "  color: #f1f1f1;\n",
              "}\n",
              "#T_756a0_row11_col16 {\n",
              "  font-size: 7pt;\n",
              "  background-color: #c3c3c3;\n",
              "  color: #000000;\n",
              "}\n",
              "#T_756a0_row12_col14 {\n",
              "  font-size: 7pt;\n",
              "  background-color: #c1c1c1;\n",
              "  color: #000000;\n",
              "}\n",
              "#T_756a0_row12_col15 {\n",
              "  font-size: 7pt;\n",
              "  background-color: #323232;\n",
              "  color: #f1f1f1;\n",
              "}\n",
              "#T_756a0_row12_col16 {\n",
              "  font-size: 7pt;\n",
              "  background-color: #070707;\n",
              "  color: #f1f1f1;\n",
              "}\n",
              "#T_756a0_row12_col20 {\n",
              "  font-size: 7pt;\n",
              "  background-color: #3c3c3c;\n",
              "  color: #f1f1f1;\n",
              "}\n",
              "#T_756a0_row12_col21 {\n",
              "  font-size: 7pt;\n",
              "  background-color: #fbfbfb;\n",
              "  color: #000000;\n",
              "}\n",
              "</style>\n",
              "<table id=\"T_756a0\" class=\"dataframe\">\n",
              "  <thead>\n",
              "    <tr>\n",
              "      <th class=\"blank level0\" >&nbsp;</th>\n",
              "      <th id=\"T_756a0_level0_col0\" class=\"col_heading level0 col0\" >0</th>\n",
              "      <th id=\"T_756a0_level0_col1\" class=\"col_heading level0 col1\" >1</th>\n",
              "      <th id=\"T_756a0_level0_col2\" class=\"col_heading level0 col2\" >2</th>\n",
              "      <th id=\"T_756a0_level0_col3\" class=\"col_heading level0 col3\" >3</th>\n",
              "      <th id=\"T_756a0_level0_col4\" class=\"col_heading level0 col4\" >4</th>\n",
              "      <th id=\"T_756a0_level0_col5\" class=\"col_heading level0 col5\" >5</th>\n",
              "      <th id=\"T_756a0_level0_col6\" class=\"col_heading level0 col6\" >6</th>\n",
              "      <th id=\"T_756a0_level0_col7\" class=\"col_heading level0 col7\" >7</th>\n",
              "      <th id=\"T_756a0_level0_col8\" class=\"col_heading level0 col8\" >8</th>\n",
              "      <th id=\"T_756a0_level0_col9\" class=\"col_heading level0 col9\" >9</th>\n",
              "      <th id=\"T_756a0_level0_col10\" class=\"col_heading level0 col10\" >10</th>\n",
              "      <th id=\"T_756a0_level0_col11\" class=\"col_heading level0 col11\" >11</th>\n",
              "      <th id=\"T_756a0_level0_col12\" class=\"col_heading level0 col12\" >12</th>\n",
              "      <th id=\"T_756a0_level0_col13\" class=\"col_heading level0 col13\" >13</th>\n",
              "      <th id=\"T_756a0_level0_col14\" class=\"col_heading level0 col14\" >14</th>\n",
              "      <th id=\"T_756a0_level0_col15\" class=\"col_heading level0 col15\" >15</th>\n",
              "      <th id=\"T_756a0_level0_col16\" class=\"col_heading level0 col16\" >16</th>\n",
              "      <th id=\"T_756a0_level0_col17\" class=\"col_heading level0 col17\" >17</th>\n",
              "      <th id=\"T_756a0_level0_col18\" class=\"col_heading level0 col18\" >18</th>\n",
              "      <th id=\"T_756a0_level0_col19\" class=\"col_heading level0 col19\" >19</th>\n",
              "      <th id=\"T_756a0_level0_col20\" class=\"col_heading level0 col20\" >20</th>\n",
              "      <th id=\"T_756a0_level0_col21\" class=\"col_heading level0 col21\" >21</th>\n",
              "      <th id=\"T_756a0_level0_col22\" class=\"col_heading level0 col22\" >22</th>\n",
              "    </tr>\n",
              "  </thead>\n",
              "  <tbody>\n",
              "    <tr>\n",
              "      <th id=\"T_756a0_level0_row0\" class=\"row_heading level0 row0\" >0</th>\n",
              "      <td id=\"T_756a0_row0_col0\" class=\"data row0 col0\" >0.00</td>\n",
              "      <td id=\"T_756a0_row0_col1\" class=\"data row0 col1\" >0.00</td>\n",
              "      <td id=\"T_756a0_row0_col2\" class=\"data row0 col2\" >0.00</td>\n",
              "      <td id=\"T_756a0_row0_col3\" class=\"data row0 col3\" >0.00</td>\n",
              "      <td id=\"T_756a0_row0_col4\" class=\"data row0 col4\" >0.00</td>\n",
              "      <td id=\"T_756a0_row0_col5\" class=\"data row0 col5\" >0.00</td>\n",
              "      <td id=\"T_756a0_row0_col6\" class=\"data row0 col6\" >0.00</td>\n",
              "      <td id=\"T_756a0_row0_col7\" class=\"data row0 col7\" >0.00</td>\n",
              "      <td id=\"T_756a0_row0_col8\" class=\"data row0 col8\" >0.00</td>\n",
              "      <td id=\"T_756a0_row0_col9\" class=\"data row0 col9\" >0.00</td>\n",
              "      <td id=\"T_756a0_row0_col10\" class=\"data row0 col10\" >0.00</td>\n",
              "      <td id=\"T_756a0_row0_col11\" class=\"data row0 col11\" >0.00</td>\n",
              "      <td id=\"T_756a0_row0_col12\" class=\"data row0 col12\" >0.00</td>\n",
              "      <td id=\"T_756a0_row0_col13\" class=\"data row0 col13\" >0.00</td>\n",
              "      <td id=\"T_756a0_row0_col14\" class=\"data row0 col14\" >0.00</td>\n",
              "      <td id=\"T_756a0_row0_col15\" class=\"data row0 col15\" >0.00</td>\n",
              "      <td id=\"T_756a0_row0_col16\" class=\"data row0 col16\" >0.00</td>\n",
              "      <td id=\"T_756a0_row0_col17\" class=\"data row0 col17\" >0.00</td>\n",
              "      <td id=\"T_756a0_row0_col18\" class=\"data row0 col18\" >0.00</td>\n",
              "      <td id=\"T_756a0_row0_col19\" class=\"data row0 col19\" >0.00</td>\n",
              "      <td id=\"T_756a0_row0_col20\" class=\"data row0 col20\" >0.00</td>\n",
              "      <td id=\"T_756a0_row0_col21\" class=\"data row0 col21\" >0.00</td>\n",
              "      <td id=\"T_756a0_row0_col22\" class=\"data row0 col22\" >0.00</td>\n",
              "    </tr>\n",
              "    <tr>\n",
              "      <th id=\"T_756a0_level0_row1\" class=\"row_heading level0 row1\" >1</th>\n",
              "      <td id=\"T_756a0_row1_col0\" class=\"data row1 col0\" >0.00</td>\n",
              "      <td id=\"T_756a0_row1_col1\" class=\"data row1 col1\" >0.00</td>\n",
              "      <td id=\"T_756a0_row1_col2\" class=\"data row1 col2\" >0.00</td>\n",
              "      <td id=\"T_756a0_row1_col3\" class=\"data row1 col3\" >0.00</td>\n",
              "      <td id=\"T_756a0_row1_col4\" class=\"data row1 col4\" >0.00</td>\n",
              "      <td id=\"T_756a0_row1_col5\" class=\"data row1 col5\" >0.00</td>\n",
              "      <td id=\"T_756a0_row1_col6\" class=\"data row1 col6\" >0.00</td>\n",
              "      <td id=\"T_756a0_row1_col7\" class=\"data row1 col7\" >0.00</td>\n",
              "      <td id=\"T_756a0_row1_col8\" class=\"data row1 col8\" >0.00</td>\n",
              "      <td id=\"T_756a0_row1_col9\" class=\"data row1 col9\" >0.00</td>\n",
              "      <td id=\"T_756a0_row1_col10\" class=\"data row1 col10\" >0.00</td>\n",
              "      <td id=\"T_756a0_row1_col11\" class=\"data row1 col11\" >0.00</td>\n",
              "      <td id=\"T_756a0_row1_col12\" class=\"data row1 col12\" >0.00</td>\n",
              "      <td id=\"T_756a0_row1_col13\" class=\"data row1 col13\" >0.00</td>\n",
              "      <td id=\"T_756a0_row1_col14\" class=\"data row1 col14\" >0.00</td>\n",
              "      <td id=\"T_756a0_row1_col15\" class=\"data row1 col15\" >0.00</td>\n",
              "      <td id=\"T_756a0_row1_col16\" class=\"data row1 col16\" >0.00</td>\n",
              "      <td id=\"T_756a0_row1_col17\" class=\"data row1 col17\" >0.00</td>\n",
              "      <td id=\"T_756a0_row1_col18\" class=\"data row1 col18\" >0.00</td>\n",
              "      <td id=\"T_756a0_row1_col19\" class=\"data row1 col19\" >0.00</td>\n",
              "      <td id=\"T_756a0_row1_col20\" class=\"data row1 col20\" >0.00</td>\n",
              "      <td id=\"T_756a0_row1_col21\" class=\"data row1 col21\" >0.00</td>\n",
              "      <td id=\"T_756a0_row1_col22\" class=\"data row1 col22\" >0.00</td>\n",
              "    </tr>\n",
              "    <tr>\n",
              "      <th id=\"T_756a0_level0_row2\" class=\"row_heading level0 row2\" >2</th>\n",
              "      <td id=\"T_756a0_row2_col0\" class=\"data row2 col0\" >0.00</td>\n",
              "      <td id=\"T_756a0_row2_col1\" class=\"data row2 col1\" >0.00</td>\n",
              "      <td id=\"T_756a0_row2_col2\" class=\"data row2 col2\" >0.00</td>\n",
              "      <td id=\"T_756a0_row2_col3\" class=\"data row2 col3\" >0.00</td>\n",
              "      <td id=\"T_756a0_row2_col4\" class=\"data row2 col4\" >0.00</td>\n",
              "      <td id=\"T_756a0_row2_col5\" class=\"data row2 col5\" >0.00</td>\n",
              "      <td id=\"T_756a0_row2_col6\" class=\"data row2 col6\" >0.00</td>\n",
              "      <td id=\"T_756a0_row2_col7\" class=\"data row2 col7\" >0.00</td>\n",
              "      <td id=\"T_756a0_row2_col8\" class=\"data row2 col8\" >0.00</td>\n",
              "      <td id=\"T_756a0_row2_col9\" class=\"data row2 col9\" >0.00</td>\n",
              "      <td id=\"T_756a0_row2_col10\" class=\"data row2 col10\" >0.00</td>\n",
              "      <td id=\"T_756a0_row2_col11\" class=\"data row2 col11\" >0.00</td>\n",
              "      <td id=\"T_756a0_row2_col12\" class=\"data row2 col12\" >0.00</td>\n",
              "      <td id=\"T_756a0_row2_col13\" class=\"data row2 col13\" >0.00</td>\n",
              "      <td id=\"T_756a0_row2_col14\" class=\"data row2 col14\" >0.00</td>\n",
              "      <td id=\"T_756a0_row2_col15\" class=\"data row2 col15\" >0.00</td>\n",
              "      <td id=\"T_756a0_row2_col16\" class=\"data row2 col16\" >0.00</td>\n",
              "      <td id=\"T_756a0_row2_col17\" class=\"data row2 col17\" >0.00</td>\n",
              "      <td id=\"T_756a0_row2_col18\" class=\"data row2 col18\" >0.00</td>\n",
              "      <td id=\"T_756a0_row2_col19\" class=\"data row2 col19\" >0.00</td>\n",
              "      <td id=\"T_756a0_row2_col20\" class=\"data row2 col20\" >0.00</td>\n",
              "      <td id=\"T_756a0_row2_col21\" class=\"data row2 col21\" >0.00</td>\n",
              "      <td id=\"T_756a0_row2_col22\" class=\"data row2 col22\" >0.00</td>\n",
              "    </tr>\n",
              "    <tr>\n",
              "      <th id=\"T_756a0_level0_row3\" class=\"row_heading level0 row3\" >3</th>\n",
              "      <td id=\"T_756a0_row3_col0\" class=\"data row3 col0\" >0.00</td>\n",
              "      <td id=\"T_756a0_row3_col1\" class=\"data row3 col1\" >0.00</td>\n",
              "      <td id=\"T_756a0_row3_col2\" class=\"data row3 col2\" >0.00</td>\n",
              "      <td id=\"T_756a0_row3_col3\" class=\"data row3 col3\" >0.00</td>\n",
              "      <td id=\"T_756a0_row3_col4\" class=\"data row3 col4\" >0.00</td>\n",
              "      <td id=\"T_756a0_row3_col5\" class=\"data row3 col5\" >0.00</td>\n",
              "      <td id=\"T_756a0_row3_col6\" class=\"data row3 col6\" >0.00</td>\n",
              "      <td id=\"T_756a0_row3_col7\" class=\"data row3 col7\" >0.00</td>\n",
              "      <td id=\"T_756a0_row3_col8\" class=\"data row3 col8\" >0.00</td>\n",
              "      <td id=\"T_756a0_row3_col9\" class=\"data row3 col9\" >0.00</td>\n",
              "      <td id=\"T_756a0_row3_col10\" class=\"data row3 col10\" >0.00</td>\n",
              "      <td id=\"T_756a0_row3_col11\" class=\"data row3 col11\" >0.00</td>\n",
              "      <td id=\"T_756a0_row3_col12\" class=\"data row3 col12\" >0.00</td>\n",
              "      <td id=\"T_756a0_row3_col13\" class=\"data row3 col13\" >0.00</td>\n",
              "      <td id=\"T_756a0_row3_col14\" class=\"data row3 col14\" >0.00</td>\n",
              "      <td id=\"T_756a0_row3_col15\" class=\"data row3 col15\" >0.00</td>\n",
              "      <td id=\"T_756a0_row3_col16\" class=\"data row3 col16\" >0.00</td>\n",
              "      <td id=\"T_756a0_row3_col17\" class=\"data row3 col17\" >0.00</td>\n",
              "      <td id=\"T_756a0_row3_col18\" class=\"data row3 col18\" >0.00</td>\n",
              "      <td id=\"T_756a0_row3_col19\" class=\"data row3 col19\" >0.00</td>\n",
              "      <td id=\"T_756a0_row3_col20\" class=\"data row3 col20\" >0.00</td>\n",
              "      <td id=\"T_756a0_row3_col21\" class=\"data row3 col21\" >0.00</td>\n",
              "      <td id=\"T_756a0_row3_col22\" class=\"data row3 col22\" >0.00</td>\n",
              "    </tr>\n",
              "    <tr>\n",
              "      <th id=\"T_756a0_level0_row4\" class=\"row_heading level0 row4\" >4</th>\n",
              "      <td id=\"T_756a0_row4_col0\" class=\"data row4 col0\" >0.00</td>\n",
              "      <td id=\"T_756a0_row4_col1\" class=\"data row4 col1\" >0.00</td>\n",
              "      <td id=\"T_756a0_row4_col2\" class=\"data row4 col2\" >0.00</td>\n",
              "      <td id=\"T_756a0_row4_col3\" class=\"data row4 col3\" >0.00</td>\n",
              "      <td id=\"T_756a0_row4_col4\" class=\"data row4 col4\" >0.00</td>\n",
              "      <td id=\"T_756a0_row4_col5\" class=\"data row4 col5\" >0.00</td>\n",
              "      <td id=\"T_756a0_row4_col6\" class=\"data row4 col6\" >0.00</td>\n",
              "      <td id=\"T_756a0_row4_col7\" class=\"data row4 col7\" >0.00</td>\n",
              "      <td id=\"T_756a0_row4_col8\" class=\"data row4 col8\" >0.00</td>\n",
              "      <td id=\"T_756a0_row4_col9\" class=\"data row4 col9\" >0.00</td>\n",
              "      <td id=\"T_756a0_row4_col10\" class=\"data row4 col10\" >0.00</td>\n",
              "      <td id=\"T_756a0_row4_col11\" class=\"data row4 col11\" >0.00</td>\n",
              "      <td id=\"T_756a0_row4_col12\" class=\"data row4 col12\" >0.00</td>\n",
              "      <td id=\"T_756a0_row4_col13\" class=\"data row4 col13\" >0.00</td>\n",
              "      <td id=\"T_756a0_row4_col14\" class=\"data row4 col14\" >0.00</td>\n",
              "      <td id=\"T_756a0_row4_col15\" class=\"data row4 col15\" >0.00</td>\n",
              "      <td id=\"T_756a0_row4_col16\" class=\"data row4 col16\" >0.00</td>\n",
              "      <td id=\"T_756a0_row4_col17\" class=\"data row4 col17\" >0.00</td>\n",
              "      <td id=\"T_756a0_row4_col18\" class=\"data row4 col18\" >0.00</td>\n",
              "      <td id=\"T_756a0_row4_col19\" class=\"data row4 col19\" >0.00</td>\n",
              "      <td id=\"T_756a0_row4_col20\" class=\"data row4 col20\" >0.00</td>\n",
              "      <td id=\"T_756a0_row4_col21\" class=\"data row4 col21\" >0.00</td>\n",
              "      <td id=\"T_756a0_row4_col22\" class=\"data row4 col22\" >0.00</td>\n",
              "    </tr>\n",
              "    <tr>\n",
              "      <th id=\"T_756a0_level0_row5\" class=\"row_heading level0 row5\" >5</th>\n",
              "      <td id=\"T_756a0_row5_col0\" class=\"data row5 col0\" >0.00</td>\n",
              "      <td id=\"T_756a0_row5_col1\" class=\"data row5 col1\" >0.00</td>\n",
              "      <td id=\"T_756a0_row5_col2\" class=\"data row5 col2\" >0.00</td>\n",
              "      <td id=\"T_756a0_row5_col3\" class=\"data row5 col3\" >0.00</td>\n",
              "      <td id=\"T_756a0_row5_col4\" class=\"data row5 col4\" >0.00</td>\n",
              "      <td id=\"T_756a0_row5_col5\" class=\"data row5 col5\" >0.00</td>\n",
              "      <td id=\"T_756a0_row5_col6\" class=\"data row5 col6\" >0.00</td>\n",
              "      <td id=\"T_756a0_row5_col7\" class=\"data row5 col7\" >0.00</td>\n",
              "      <td id=\"T_756a0_row5_col8\" class=\"data row5 col8\" >0.00</td>\n",
              "      <td id=\"T_756a0_row5_col9\" class=\"data row5 col9\" >0.00</td>\n",
              "      <td id=\"T_756a0_row5_col10\" class=\"data row5 col10\" >0.00</td>\n",
              "      <td id=\"T_756a0_row5_col11\" class=\"data row5 col11\" >0.15</td>\n",
              "      <td id=\"T_756a0_row5_col12\" class=\"data row5 col12\" >0.17</td>\n",
              "      <td id=\"T_756a0_row5_col13\" class=\"data row5 col13\" >0.41</td>\n",
              "      <td id=\"T_756a0_row5_col14\" class=\"data row5 col14\" >1.00</td>\n",
              "      <td id=\"T_756a0_row5_col15\" class=\"data row5 col15\" >0.99</td>\n",
              "      <td id=\"T_756a0_row5_col16\" class=\"data row5 col16\" >0.99</td>\n",
              "      <td id=\"T_756a0_row5_col17\" class=\"data row5 col17\" >0.99</td>\n",
              "      <td id=\"T_756a0_row5_col18\" class=\"data row5 col18\" >0.99</td>\n",
              "      <td id=\"T_756a0_row5_col19\" class=\"data row5 col19\" >0.99</td>\n",
              "      <td id=\"T_756a0_row5_col20\" class=\"data row5 col20\" >0.68</td>\n",
              "      <td id=\"T_756a0_row5_col21\" class=\"data row5 col21\" >0.02</td>\n",
              "      <td id=\"T_756a0_row5_col22\" class=\"data row5 col22\" >0.00</td>\n",
              "    </tr>\n",
              "    <tr>\n",
              "      <th id=\"T_756a0_level0_row6\" class=\"row_heading level0 row6\" >6</th>\n",
              "      <td id=\"T_756a0_row6_col0\" class=\"data row6 col0\" >0.00</td>\n",
              "      <td id=\"T_756a0_row6_col1\" class=\"data row6 col1\" >0.00</td>\n",
              "      <td id=\"T_756a0_row6_col2\" class=\"data row6 col2\" >0.00</td>\n",
              "      <td id=\"T_756a0_row6_col3\" class=\"data row6 col3\" >0.00</td>\n",
              "      <td id=\"T_756a0_row6_col4\" class=\"data row6 col4\" >0.00</td>\n",
              "      <td id=\"T_756a0_row6_col5\" class=\"data row6 col5\" >0.00</td>\n",
              "      <td id=\"T_756a0_row6_col6\" class=\"data row6 col6\" >0.00</td>\n",
              "      <td id=\"T_756a0_row6_col7\" class=\"data row6 col7\" >0.00</td>\n",
              "      <td id=\"T_756a0_row6_col8\" class=\"data row6 col8\" >0.00</td>\n",
              "      <td id=\"T_756a0_row6_col9\" class=\"data row6 col9\" >0.17</td>\n",
              "      <td id=\"T_756a0_row6_col10\" class=\"data row6 col10\" >0.54</td>\n",
              "      <td id=\"T_756a0_row6_col11\" class=\"data row6 col11\" >0.88</td>\n",
              "      <td id=\"T_756a0_row6_col12\" class=\"data row6 col12\" >0.88</td>\n",
              "      <td id=\"T_756a0_row6_col13\" class=\"data row6 col13\" >0.98</td>\n",
              "      <td id=\"T_756a0_row6_col14\" class=\"data row6 col14\" >0.99</td>\n",
              "      <td id=\"T_756a0_row6_col15\" class=\"data row6 col15\" >0.98</td>\n",
              "      <td id=\"T_756a0_row6_col16\" class=\"data row6 col16\" >0.98</td>\n",
              "      <td id=\"T_756a0_row6_col17\" class=\"data row6 col17\" >0.98</td>\n",
              "      <td id=\"T_756a0_row6_col18\" class=\"data row6 col18\" >0.98</td>\n",
              "      <td id=\"T_756a0_row6_col19\" class=\"data row6 col19\" >0.98</td>\n",
              "      <td id=\"T_756a0_row6_col20\" class=\"data row6 col20\" >0.98</td>\n",
              "      <td id=\"T_756a0_row6_col21\" class=\"data row6 col21\" >0.62</td>\n",
              "      <td id=\"T_756a0_row6_col22\" class=\"data row6 col22\" >0.05</td>\n",
              "    </tr>\n",
              "    <tr>\n",
              "      <th id=\"T_756a0_level0_row7\" class=\"row_heading level0 row7\" >7</th>\n",
              "      <td id=\"T_756a0_row7_col0\" class=\"data row7 col0\" >0.00</td>\n",
              "      <td id=\"T_756a0_row7_col1\" class=\"data row7 col1\" >0.00</td>\n",
              "      <td id=\"T_756a0_row7_col2\" class=\"data row7 col2\" >0.00</td>\n",
              "      <td id=\"T_756a0_row7_col3\" class=\"data row7 col3\" >0.00</td>\n",
              "      <td id=\"T_756a0_row7_col4\" class=\"data row7 col4\" >0.00</td>\n",
              "      <td id=\"T_756a0_row7_col5\" class=\"data row7 col5\" >0.00</td>\n",
              "      <td id=\"T_756a0_row7_col6\" class=\"data row7 col6\" >0.00</td>\n",
              "      <td id=\"T_756a0_row7_col7\" class=\"data row7 col7\" >0.00</td>\n",
              "      <td id=\"T_756a0_row7_col8\" class=\"data row7 col8\" >0.00</td>\n",
              "      <td id=\"T_756a0_row7_col9\" class=\"data row7 col9\" >0.70</td>\n",
              "      <td id=\"T_756a0_row7_col10\" class=\"data row7 col10\" >0.98</td>\n",
              "      <td id=\"T_756a0_row7_col11\" class=\"data row7 col11\" >0.98</td>\n",
              "      <td id=\"T_756a0_row7_col12\" class=\"data row7 col12\" >0.98</td>\n",
              "      <td id=\"T_756a0_row7_col13\" class=\"data row7 col13\" >0.98</td>\n",
              "      <td id=\"T_756a0_row7_col14\" class=\"data row7 col14\" >0.99</td>\n",
              "      <td id=\"T_756a0_row7_col15\" class=\"data row7 col15\" >0.98</td>\n",
              "      <td id=\"T_756a0_row7_col16\" class=\"data row7 col16\" >0.98</td>\n",
              "      <td id=\"T_756a0_row7_col17\" class=\"data row7 col17\" >0.98</td>\n",
              "      <td id=\"T_756a0_row7_col18\" class=\"data row7 col18\" >0.98</td>\n",
              "      <td id=\"T_756a0_row7_col19\" class=\"data row7 col19\" >0.98</td>\n",
              "      <td id=\"T_756a0_row7_col20\" class=\"data row7 col20\" >0.98</td>\n",
              "      <td id=\"T_756a0_row7_col21\" class=\"data row7 col21\" >0.98</td>\n",
              "      <td id=\"T_756a0_row7_col22\" class=\"data row7 col22\" >0.23</td>\n",
              "    </tr>\n",
              "    <tr>\n",
              "      <th id=\"T_756a0_level0_row8\" class=\"row_heading level0 row8\" >8</th>\n",
              "      <td id=\"T_756a0_row8_col0\" class=\"data row8 col0\" >0.00</td>\n",
              "      <td id=\"T_756a0_row8_col1\" class=\"data row8 col1\" >0.00</td>\n",
              "      <td id=\"T_756a0_row8_col2\" class=\"data row8 col2\" >0.00</td>\n",
              "      <td id=\"T_756a0_row8_col3\" class=\"data row8 col3\" >0.00</td>\n",
              "      <td id=\"T_756a0_row8_col4\" class=\"data row8 col4\" >0.00</td>\n",
              "      <td id=\"T_756a0_row8_col5\" class=\"data row8 col5\" >0.00</td>\n",
              "      <td id=\"T_756a0_row8_col6\" class=\"data row8 col6\" >0.00</td>\n",
              "      <td id=\"T_756a0_row8_col7\" class=\"data row8 col7\" >0.00</td>\n",
              "      <td id=\"T_756a0_row8_col8\" class=\"data row8 col8\" >0.00</td>\n",
              "      <td id=\"T_756a0_row8_col9\" class=\"data row8 col9\" >0.43</td>\n",
              "      <td id=\"T_756a0_row8_col10\" class=\"data row8 col10\" >0.98</td>\n",
              "      <td id=\"T_756a0_row8_col11\" class=\"data row8 col11\" >0.98</td>\n",
              "      <td id=\"T_756a0_row8_col12\" class=\"data row8 col12\" >0.90</td>\n",
              "      <td id=\"T_756a0_row8_col13\" class=\"data row8 col13\" >0.52</td>\n",
              "      <td id=\"T_756a0_row8_col14\" class=\"data row8 col14\" >0.52</td>\n",
              "      <td id=\"T_756a0_row8_col15\" class=\"data row8 col15\" >0.52</td>\n",
              "      <td id=\"T_756a0_row8_col16\" class=\"data row8 col16\" >0.52</td>\n",
              "      <td id=\"T_756a0_row8_col17\" class=\"data row8 col17\" >0.74</td>\n",
              "      <td id=\"T_756a0_row8_col18\" class=\"data row8 col18\" >0.98</td>\n",
              "      <td id=\"T_756a0_row8_col19\" class=\"data row8 col19\" >0.98</td>\n",
              "      <td id=\"T_756a0_row8_col20\" class=\"data row8 col20\" >0.98</td>\n",
              "      <td id=\"T_756a0_row8_col21\" class=\"data row8 col21\" >0.98</td>\n",
              "      <td id=\"T_756a0_row8_col22\" class=\"data row8 col22\" >0.23</td>\n",
              "    </tr>\n",
              "    <tr>\n",
              "      <th id=\"T_756a0_level0_row9\" class=\"row_heading level0 row9\" >9</th>\n",
              "      <td id=\"T_756a0_row9_col0\" class=\"data row9 col0\" >0.00</td>\n",
              "      <td id=\"T_756a0_row9_col1\" class=\"data row9 col1\" >0.00</td>\n",
              "      <td id=\"T_756a0_row9_col2\" class=\"data row9 col2\" >0.00</td>\n",
              "      <td id=\"T_756a0_row9_col3\" class=\"data row9 col3\" >0.00</td>\n",
              "      <td id=\"T_756a0_row9_col4\" class=\"data row9 col4\" >0.00</td>\n",
              "      <td id=\"T_756a0_row9_col5\" class=\"data row9 col5\" >0.00</td>\n",
              "      <td id=\"T_756a0_row9_col6\" class=\"data row9 col6\" >0.00</td>\n",
              "      <td id=\"T_756a0_row9_col7\" class=\"data row9 col7\" >0.00</td>\n",
              "      <td id=\"T_756a0_row9_col8\" class=\"data row9 col8\" >0.00</td>\n",
              "      <td id=\"T_756a0_row9_col9\" class=\"data row9 col9\" >0.02</td>\n",
              "      <td id=\"T_756a0_row9_col10\" class=\"data row9 col10\" >0.11</td>\n",
              "      <td id=\"T_756a0_row9_col11\" class=\"data row9 col11\" >0.11</td>\n",
              "      <td id=\"T_756a0_row9_col12\" class=\"data row9 col12\" >0.09</td>\n",
              "      <td id=\"T_756a0_row9_col13\" class=\"data row9 col13\" >0.00</td>\n",
              "      <td id=\"T_756a0_row9_col14\" class=\"data row9 col14\" >0.00</td>\n",
              "      <td id=\"T_756a0_row9_col15\" class=\"data row9 col15\" >0.00</td>\n",
              "      <td id=\"T_756a0_row9_col16\" class=\"data row9 col16\" >0.00</td>\n",
              "      <td id=\"T_756a0_row9_col17\" class=\"data row9 col17\" >0.05</td>\n",
              "      <td id=\"T_756a0_row9_col18\" class=\"data row9 col18\" >0.88</td>\n",
              "      <td id=\"T_756a0_row9_col19\" class=\"data row9 col19\" >0.98</td>\n",
              "      <td id=\"T_756a0_row9_col20\" class=\"data row9 col20\" >0.98</td>\n",
              "      <td id=\"T_756a0_row9_col21\" class=\"data row9 col21\" >0.67</td>\n",
              "      <td id=\"T_756a0_row9_col22\" class=\"data row9 col22\" >0.03</td>\n",
              "    </tr>\n",
              "    <tr>\n",
              "      <th id=\"T_756a0_level0_row10\" class=\"row_heading level0 row10\" >10</th>\n",
              "      <td id=\"T_756a0_row10_col0\" class=\"data row10 col0\" >0.00</td>\n",
              "      <td id=\"T_756a0_row10_col1\" class=\"data row10 col1\" >0.00</td>\n",
              "      <td id=\"T_756a0_row10_col2\" class=\"data row10 col2\" >0.00</td>\n",
              "      <td id=\"T_756a0_row10_col3\" class=\"data row10 col3\" >0.00</td>\n",
              "      <td id=\"T_756a0_row10_col4\" class=\"data row10 col4\" >0.00</td>\n",
              "      <td id=\"T_756a0_row10_col5\" class=\"data row10 col5\" >0.00</td>\n",
              "      <td id=\"T_756a0_row10_col6\" class=\"data row10 col6\" >0.00</td>\n",
              "      <td id=\"T_756a0_row10_col7\" class=\"data row10 col7\" >0.00</td>\n",
              "      <td id=\"T_756a0_row10_col8\" class=\"data row10 col8\" >0.00</td>\n",
              "      <td id=\"T_756a0_row10_col9\" class=\"data row10 col9\" >0.00</td>\n",
              "      <td id=\"T_756a0_row10_col10\" class=\"data row10 col10\" >0.00</td>\n",
              "      <td id=\"T_756a0_row10_col11\" class=\"data row10 col11\" >0.00</td>\n",
              "      <td id=\"T_756a0_row10_col12\" class=\"data row10 col12\" >0.00</td>\n",
              "      <td id=\"T_756a0_row10_col13\" class=\"data row10 col13\" >0.00</td>\n",
              "      <td id=\"T_756a0_row10_col14\" class=\"data row10 col14\" >0.00</td>\n",
              "      <td id=\"T_756a0_row10_col15\" class=\"data row10 col15\" >0.00</td>\n",
              "      <td id=\"T_756a0_row10_col16\" class=\"data row10 col16\" >0.00</td>\n",
              "      <td id=\"T_756a0_row10_col17\" class=\"data row10 col17\" >0.33</td>\n",
              "      <td id=\"T_756a0_row10_col18\" class=\"data row10 col18\" >0.95</td>\n",
              "      <td id=\"T_756a0_row10_col19\" class=\"data row10 col19\" >0.98</td>\n",
              "      <td id=\"T_756a0_row10_col20\" class=\"data row10 col20\" >0.98</td>\n",
              "      <td id=\"T_756a0_row10_col21\" class=\"data row10 col21\" >0.56</td>\n",
              "      <td id=\"T_756a0_row10_col22\" class=\"data row10 col22\" >0.00</td>\n",
              "    </tr>\n",
              "    <tr>\n",
              "      <th id=\"T_756a0_level0_row11\" class=\"row_heading level0 row11\" >11</th>\n",
              "      <td id=\"T_756a0_row11_col0\" class=\"data row11 col0\" >0.00</td>\n",
              "      <td id=\"T_756a0_row11_col1\" class=\"data row11 col1\" >0.00</td>\n",
              "      <td id=\"T_756a0_row11_col2\" class=\"data row11 col2\" >0.00</td>\n",
              "      <td id=\"T_756a0_row11_col3\" class=\"data row11 col3\" >0.00</td>\n",
              "      <td id=\"T_756a0_row11_col4\" class=\"data row11 col4\" >0.00</td>\n",
              "      <td id=\"T_756a0_row11_col5\" class=\"data row11 col5\" >0.00</td>\n",
              "      <td id=\"T_756a0_row11_col6\" class=\"data row11 col6\" >0.00</td>\n",
              "      <td id=\"T_756a0_row11_col7\" class=\"data row11 col7\" >0.00</td>\n",
              "      <td id=\"T_756a0_row11_col8\" class=\"data row11 col8\" >0.00</td>\n",
              "      <td id=\"T_756a0_row11_col9\" class=\"data row11 col9\" >0.00</td>\n",
              "      <td id=\"T_756a0_row11_col10\" class=\"data row11 col10\" >0.00</td>\n",
              "      <td id=\"T_756a0_row11_col11\" class=\"data row11 col11\" >0.00</td>\n",
              "      <td id=\"T_756a0_row11_col12\" class=\"data row11 col12\" >0.00</td>\n",
              "      <td id=\"T_756a0_row11_col13\" class=\"data row11 col13\" >0.00</td>\n",
              "      <td id=\"T_756a0_row11_col14\" class=\"data row11 col14\" >0.00</td>\n",
              "      <td id=\"T_756a0_row11_col15\" class=\"data row11 col15\" >0.00</td>\n",
              "      <td id=\"T_756a0_row11_col16\" class=\"data row11 col16\" >0.34</td>\n",
              "      <td id=\"T_756a0_row11_col17\" class=\"data row11 col17\" >0.74</td>\n",
              "      <td id=\"T_756a0_row11_col18\" class=\"data row11 col18\" >0.98</td>\n",
              "      <td id=\"T_756a0_row11_col19\" class=\"data row11 col19\" >0.98</td>\n",
              "      <td id=\"T_756a0_row11_col20\" class=\"data row11 col20\" >0.98</td>\n",
              "      <td id=\"T_756a0_row11_col21\" class=\"data row11 col21\" >0.05</td>\n",
              "      <td id=\"T_756a0_row11_col22\" class=\"data row11 col22\" >0.00</td>\n",
              "    </tr>\n",
              "    <tr>\n",
              "      <th id=\"T_756a0_level0_row12\" class=\"row_heading level0 row12\" >12</th>\n",
              "      <td id=\"T_756a0_row12_col0\" class=\"data row12 col0\" >0.00</td>\n",
              "      <td id=\"T_756a0_row12_col1\" class=\"data row12 col1\" >0.00</td>\n",
              "      <td id=\"T_756a0_row12_col2\" class=\"data row12 col2\" >0.00</td>\n",
              "      <td id=\"T_756a0_row12_col3\" class=\"data row12 col3\" >0.00</td>\n",
              "      <td id=\"T_756a0_row12_col4\" class=\"data row12 col4\" >0.00</td>\n",
              "      <td id=\"T_756a0_row12_col5\" class=\"data row12 col5\" >0.00</td>\n",
              "      <td id=\"T_756a0_row12_col6\" class=\"data row12 col6\" >0.00</td>\n",
              "      <td id=\"T_756a0_row12_col7\" class=\"data row12 col7\" >0.00</td>\n",
              "      <td id=\"T_756a0_row12_col8\" class=\"data row12 col8\" >0.00</td>\n",
              "      <td id=\"T_756a0_row12_col9\" class=\"data row12 col9\" >0.00</td>\n",
              "      <td id=\"T_756a0_row12_col10\" class=\"data row12 col10\" >0.00</td>\n",
              "      <td id=\"T_756a0_row12_col11\" class=\"data row12 col11\" >0.00</td>\n",
              "      <td id=\"T_756a0_row12_col12\" class=\"data row12 col12\" >0.00</td>\n",
              "      <td id=\"T_756a0_row12_col13\" class=\"data row12 col13\" >0.00</td>\n",
              "      <td id=\"T_756a0_row12_col14\" class=\"data row12 col14\" >0.36</td>\n",
              "      <td id=\"T_756a0_row12_col15\" class=\"data row12 col15\" >0.83</td>\n",
              "      <td id=\"T_756a0_row12_col16\" class=\"data row12 col16\" >0.96</td>\n",
              "      <td id=\"T_756a0_row12_col17\" class=\"data row12 col17\" >0.98</td>\n",
              "      <td id=\"T_756a0_row12_col18\" class=\"data row12 col18\" >0.98</td>\n",
              "      <td id=\"T_756a0_row12_col19\" class=\"data row12 col19\" >0.98</td>\n",
              "      <td id=\"T_756a0_row12_col20\" class=\"data row12 col20\" >0.80</td>\n",
              "      <td id=\"T_756a0_row12_col21\" class=\"data row12 col21\" >0.04</td>\n",
              "      <td id=\"T_756a0_row12_col22\" class=\"data row12 col22\" >0.00</td>\n",
              "    </tr>\n",
              "  </tbody>\n",
              "</table>\n"
            ]
          },
          "metadata": {},
          "execution_count": 29
        }
      ]
    },
    {
      "cell_type": "code",
      "source": [
        "(im3[3:6, 14:17] * top_edge).sum()"
      ],
      "metadata": {
        "colab": {
          "base_uri": "https://localhost:8080/"
        },
        "id": "A_QhCnyEp-n1",
        "outputId": "98724872-8bd7-47ae-cb36-2e4e21859a1d"
      },
      "execution_count": 30,
      "outputs": [
        {
          "output_type": "execute_result",
          "data": {
            "text/plain": [
              "tensor(2.9727)"
            ]
          },
          "metadata": {},
          "execution_count": 30
        }
      ]
    },
    {
      "cell_type": "code",
      "source": [
        "(im3[7:10, 14:17] * top_edge).sum()"
      ],
      "metadata": {
        "colab": {
          "base_uri": "https://localhost:8080/"
        },
        "id": "_i4CIYckqRYN",
        "outputId": "c361087a-5ef4-4302-a700-8d98effdb56a"
      },
      "execution_count": 31,
      "outputs": [
        {
          "output_type": "execute_result",
          "data": {
            "text/plain": [
              "tensor(-2.9570)"
            ]
          },
          "metadata": {},
          "execution_count": 31
        }
      ]
    },
    {
      "cell_type": "code",
      "source": [
        "def apply_kernel(row, col, kernel): return (im3[row-1:row+2, col-1:col+2] * kernel).sum()"
      ],
      "metadata": {
        "id": "zfBotGo6qsjL"
      },
      "execution_count": 32,
      "outputs": []
    },
    {
      "cell_type": "code",
      "source": [
        "apply_kernel(4, 15, top_edge)"
      ],
      "metadata": {
        "colab": {
          "base_uri": "https://localhost:8080/"
        },
        "id": "9vctnmB7q4Ow",
        "outputId": "2e688194-4793-468a-a98b-3e85f19a9e29"
      },
      "execution_count": 33,
      "outputs": [
        {
          "output_type": "execute_result",
          "data": {
            "text/plain": [
              "tensor(2.9727)"
            ]
          },
          "metadata": {},
          "execution_count": 33
        }
      ]
    },
    {
      "cell_type": "code",
      "source": [
        "[[(i, j) for j in range(5)] for i in range(5)]"
      ],
      "metadata": {
        "colab": {
          "base_uri": "https://localhost:8080/"
        },
        "id": "4plykIgWreus",
        "outputId": "1e71aa23-1d82-42d5-d199-714b364f4509"
      },
      "execution_count": 34,
      "outputs": [
        {
          "output_type": "execute_result",
          "data": {
            "text/plain": [
              "[[(0, 0), (0, 1), (0, 2), (0, 3), (0, 4)],\n",
              " [(1, 0), (1, 1), (1, 2), (1, 3), (1, 4)],\n",
              " [(2, 0), (2, 1), (2, 2), (2, 3), (2, 4)],\n",
              " [(3, 0), (3, 1), (3, 2), (3, 3), (3, 4)],\n",
              " [(4, 0), (4, 1), (4, 2), (4, 3), (4, 4)]]"
            ]
          },
          "metadata": {},
          "execution_count": 34
        }
      ]
    },
    {
      "cell_type": "code",
      "source": [
        "rng = range(1, 27)\n",
        "top_edge3 = tensor([[apply_kernel(i,j,top_edge) for j in rng] for i in rng])\n",
        "show_image(top_edge3);"
      ],
      "metadata": {
        "colab": {
          "base_uri": "https://localhost:8080/",
          "height": 133
        },
        "id": "qiQE_f55rlJE",
        "outputId": "0d0780fa-96ef-45a6-bc9c-ee150834917c"
      },
      "execution_count": 35,
      "outputs": [
        {
          "output_type": "display_data",
          "data": {
            "text/plain": [
              "<Figure size 192x144 with 1 Axes>"
            ],
            "image/png": "[encoded data removed]"
          },
          "metadata": {}
        }
      ]
    },
    {
      "cell_type": "code",
      "source": [
        "left_edge = tensor([[-1, 0, 1],\n",
        "                    [-1, 0, 1],\n",
        "                    [-1, 0, 1]]).float()"
      ],
      "metadata": {
        "id": "vlNXorMVsNf2"
      },
      "execution_count": 36,
      "outputs": []
    },
    {
      "cell_type": "code",
      "source": [
        "show_image(left_edge, noframe=False);"
      ],
      "metadata": {
        "colab": {
          "base_uri": "https://localhost:8080/",
          "height": 133
        },
        "id": "0pMIGEe5s9oj",
        "outputId": "f155021c-80ad-445d-c9fc-25f4da6cebe9"
      },
      "execution_count": 37,
      "outputs": [
        {
          "output_type": "display_data",
          "data": {
            "text/plain": [
              "<Figure size 192x144 with 1 Axes>"
            ],
            "image/png": "[encoded data removed]"
          },
          "metadata": {}
        }
      ]
    },
    {
      "cell_type": "code",
      "source": [
        "left_edge3 = tensor([[apply_kernel(i,j,left_edge) for j in rng] for i in rng])\n",
        "show_image(left_edge3);"
      ],
      "metadata": {
        "colab": {
          "base_uri": "https://localhost:8080/",
          "height": 133
        },
        "id": "pYFDljwCtVvm",
        "outputId": "7b0f37db-7ca8-4608-fe25-47066c1a3834"
      },
      "execution_count": 38,
      "outputs": [
        {
          "output_type": "display_data",
          "data": {
            "text/plain": [
              "<Figure size 192x144 with 1 Axes>"
            ],
            "image/png": "[encoded data removed]"
          },
          "metadata": {}
        }
      ]
    },
    {
      "cell_type": "code",
      "source": [
        "import torch.nn.functional as F\n",
        "import torch"
      ],
      "metadata": {
        "id": "hVLrEClStl--"
      },
      "execution_count": 39,
      "outputs": []
    },
    {
      "cell_type": "code",
      "source": [
        "inp = im3[None, None, :, :].float()\n",
        "print(inp.shape)\n",
        "inp_unf = F.unfold(inp, (3, 3))[0]\n",
        "inp_unf.shape"
      ],
      "metadata": {
        "colab": {
          "base_uri": "https://localhost:8080/"
        },
        "id": "EUyquQYExnsc",
        "outputId": "a8a711e9-58fc-482a-db71-54e119da3085"
      },
      "execution_count": 43,
      "outputs": [
        {
          "output_type": "stream",
          "name": "stdout",
          "text": [
            "torch.Size([1, 1, 28, 28])\n"
          ]
        },
        {
          "output_type": "execute_result",
          "data": {
            "text/plain": [
              "torch.Size([9, 676])"
            ]
          },
          "metadata": {},
          "execution_count": 43
        }
      ]
    },
    {
      "cell_type": "code",
      "source": [
        "w = left_edge.view(-1)\n",
        "w.shape"
      ],
      "metadata": {
        "colab": {
          "base_uri": "https://localhost:8080/"
        },
        "id": "zP8IoFBSzXBE",
        "outputId": "9400b77f-619f-4a58-82cd-f72e9fbfc710"
      },
      "execution_count": 42,
      "outputs": [
        {
          "output_type": "execute_result",
          "data": {
            "text/plain": [
              "torch.Size([9])"
            ]
          },
          "metadata": {},
          "execution_count": 42
        }
      ]
    },
    {
      "cell_type": "code",
      "source": [
        "out_unf = w@inp_unf\n",
        "out_unf.shape"
      ],
      "metadata": {
        "colab": {
          "base_uri": "https://localhost:8080/"
        },
        "id": "MlUpf4Cm0EeE",
        "outputId": "b1708ca7-3430-43c3-95b9-4f3e62de9367"
      },
      "execution_count": 45,
      "outputs": [
        {
          "output_type": "execute_result",
          "data": {
            "text/plain": [
              "torch.Size([676])"
            ]
          },
          "metadata": {},
          "execution_count": 45
        }
      ]
    },
    {
      "cell_type": "code",
      "source": [
        "out = out_unf.view(26, 26)\n",
        "show_image(out);"
      ],
      "metadata": {
        "colab": {
          "base_uri": "https://localhost:8080/",
          "height": 133
        },
        "id": "neBchKKR0fgw",
        "outputId": "096d0499-bc69-4b7f-de7d-0987528ebeda"
      },
      "execution_count": 46,
      "outputs": [
        {
          "output_type": "display_data",
          "data": {
            "text/plain": [
              "<Figure size 192x144 with 1 Axes>"
            ],
            "image/png": "[encoded data removed]"
          },
          "metadata": {}
        }
      ]
    },
    {
      "cell_type": "code",
      "source": [
        "%timeit -n 1 tensor([[apply_kernel(i,j,left_edge) for j in rng] for i in rng]);"
      ],
      "metadata": {
        "colab": {
          "base_uri": "https://localhost:8080/"
        },
        "id": "V_OwCoe_1RDI",
        "outputId": "a443084d-6057-48d8-a69a-adfe3ded5e27"
      },
      "execution_count": 47,
      "outputs": [
        {
          "output_type": "stream",
          "name": "stdout",
          "text": [
            "19 ms ± 4.23 ms per loop (mean ± std. dev. of 7 runs, 1 loop each)\n"
          ]
        }
      ]
    },
    {
      "cell_type": "code",
      "source": [
        "%timeit -n 100 (w@F.unfold(inp, (3,3))[0]).view(26, 26);"
      ],
      "metadata": {
        "colab": {
          "base_uri": "https://localhost:8080/"
        },
        "id": "Eo0O5rFz1kgo",
        "outputId": "8413a50e-9bb0-49f1-fa44-ce82dbda7e07"
      },
      "execution_count": 51,
      "outputs": [
        {
          "output_type": "stream",
          "name": "stdout",
          "text": [
            "110 µs ± 27.7 µs per loop (mean ± std. dev. of 7 runs, 100 loops each)\n"
          ]
        }
      ]
    },
    {
      "cell_type": "code",
      "source": [
        "%timeit -n 100 F.conv2d(inp, left_edge[None, None])"
      ],
      "metadata": {
        "colab": {
          "base_uri": "https://localhost:8080/"
        },
        "id": "lf2z3Pj21-qc",
        "outputId": "cf80f591-92bc-4257-b600-d6c8c89603fe"
      },
      "execution_count": 52,
      "outputs": [
        {
          "output_type": "stream",
          "name": "stdout",
          "text": [
            "The slowest run took 11.23 times longer than the fastest. This could mean that an intermediate result is being cached.\n",
            "38.6 µs ± 55.7 µs per loop (mean ± std. dev. of 7 runs, 100 loops each)\n"
          ]
        }
      ]
    },
    {
      "cell_type": "code",
      "source": [
        "diag1_edge = tensor([[0, -1, 1],\n",
        "                     [-1, 1, 0],\n",
        "                     [1, 0, 0]]).float()"
      ],
      "metadata": {
        "id": "wwfuG0ft2Fsf"
      },
      "execution_count": 53,
      "outputs": []
    },
    {
      "cell_type": "code",
      "source": [
        "show_image(diag1_edge, noframe=False);"
      ],
      "metadata": {
        "colab": {
          "base_uri": "https://localhost:8080/",
          "height": 133
        },
        "id": "lZa3NpSq2jED",
        "outputId": "8bfb0210-1255-4480-919d-ad29475d8ac9"
      },
      "execution_count": 54,
      "outputs": [
        {
          "output_type": "display_data",
          "data": {
            "text/plain": [
              "<Figure size 192x144 with 1 Axes>"
            ],
            "image/png": "[encoded data removed]"
          },
          "metadata": {}
        }
      ]
    },
    {
      "cell_type": "code",
      "source": [
        "diag2_edge = tensor([[1, -1, 0],\n",
        "                     [0, 1, -1],\n",
        "                     [0, 0, 1]]).float()"
      ],
      "metadata": {
        "id": "N-C55QN42nvc"
      },
      "execution_count": 56,
      "outputs": []
    },
    {
      "cell_type": "code",
      "source": [
        "show_image(diag2_edge, noframe=False);"
      ],
      "metadata": {
        "colab": {
          "base_uri": "https://localhost:8080/",
          "height": 133
        },
        "id": "I-W_Je1b3Duz",
        "outputId": "7cc53f6c-3c35-4573-8fae-353ed81ae704"
      },
      "execution_count": 57,
      "outputs": [
        {
          "output_type": "display_data",
          "data": {
            "text/plain": [
              "<Figure size 192x144 with 1 Axes>"
            ],
            "image/png": "[encoded data removed]"
          },
          "metadata": {}
        }
      ]
    },
    {
      "cell_type": "code",
      "source": [
        "xb = x_imgs[:16][:,None]\n",
        "xb.shape"
      ],
      "metadata": {
        "colab": {
          "base_uri": "https://localhost:8080/"
        },
        "id": "cHPB_ieo3SV2",
        "outputId": "0f8bc989-4189-490d-edea-7269e652f557"
      },
      "execution_count": 58,
      "outputs": [
        {
          "output_type": "execute_result",
          "data": {
            "text/plain": [
              "torch.Size([16, 1, 28, 28])"
            ]
          },
          "metadata": {},
          "execution_count": 58
        }
      ]
    },
    {
      "cell_type": "code",
      "source": [
        "edge_kernels = torch.stack([left_edge, top_edge, diag1_edge, diag2_edge])[:, None]\n",
        "edge_kernels.shape"
      ],
      "metadata": {
        "colab": {
          "base_uri": "https://localhost:8080/"
        },
        "id": "7ag-Uz1y3btw",
        "outputId": "95e910fa-da9e-448b-86b8-e815912cef7b"
      },
      "execution_count": 59,
      "outputs": [
        {
          "output_type": "execute_result",
          "data": {
            "text/plain": [
              "torch.Size([4, 1, 3, 3])"
            ]
          },
          "metadata": {},
          "execution_count": 59
        }
      ]
    },
    {
      "cell_type": "code",
      "source": [
        "batch_features = F.conv2d(xb, edge_kernels)\n",
        "batch_features.shape"
      ],
      "metadata": {
        "colab": {
          "base_uri": "https://localhost:8080/"
        },
        "id": "CIYZadVl3n81",
        "outputId": "396489bf-c2ef-47be-ec3b-f2ade2c3534a"
      },
      "execution_count": 60,
      "outputs": [
        {
          "output_type": "execute_result",
          "data": {
            "text/plain": [
              "torch.Size([16, 4, 26, 26])"
            ]
          },
          "metadata": {},
          "execution_count": 60
        }
      ]
    },
    {
      "cell_type": "code",
      "source": [],
      "metadata": {
        "id": "3Os2nGDE3yNm"
      },
      "execution_count": null,
      "outputs": []
    }
  ]
}