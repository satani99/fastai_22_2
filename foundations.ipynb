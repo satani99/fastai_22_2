{
  "nbformat": 4,
  "nbformat_minor": 0,
  "metadata": {
    "colab": {
      "provenance": [],
      "authorship_tag": "ABX9TyO+8bO3rVoM4Dk30WcTHRHC",
      "include_colab_link": true
    },
    "kernelspec": {
      "name": "python3",
      "display_name": "Python 3"
    },
    "language_info": {
      "name": "python"
    },
    "widgets": {
      "application/vnd.jupyter.widget-state+json": {
        "b2ea43add54f4bd6b6e478fcf3fbf8f3": {
          "model_module": "@jupyter-widgets/controls",
          "model_name": "ButtonModel",
          "model_module_version": "1.5.0",
          "state": {
            "_dom_classes": [],
            "_model_module": "@jupyter-widgets/controls",
            "_model_module_version": "1.5.0",
            "_model_name": "ButtonModel",
            "_view_count": null,
            "_view_module": "@jupyter-widgets/controls",
            "_view_module_version": "1.5.0",
            "_view_name": "ButtonView",
            "button_style": "",
            "description": "Click me",
            "disabled": false,
            "icon": "",
            "layout": "IPY_MODEL_bf5cc94895aa458d8f92955dc41002fc",
            "style": "IPY_MODEL_f6ec9bf5601744e9abb1a93bc584e1bf",
            "tooltip": ""
          }
        },
        "bf5cc94895aa458d8f92955dc41002fc": {
          "model_module": "@jupyter-widgets/base",
          "model_name": "LayoutModel",
          "model_module_version": "1.2.0",
          "state": {
            "_model_module": "@jupyter-widgets/base",
            "_model_module_version": "1.2.0",
            "_model_name": "LayoutModel",
            "_view_count": null,
            "_view_module": "@jupyter-widgets/base",
            "_view_module_version": "1.2.0",
            "_view_name": "LayoutView",
            "align_content": null,
            "align_items": null,
            "align_self": null,
            "border": null,
            "bottom": null,
            "display": null,
            "flex": null,
            "flex_flow": null,
            "grid_area": null,
            "grid_auto_columns": null,
            "grid_auto_flow": null,
            "grid_auto_rows": null,
            "grid_column": null,
            "grid_gap": null,
            "grid_row": null,
            "grid_template_areas": null,
            "grid_template_columns": null,
            "grid_template_rows": null,
            "height": null,
            "justify_content": null,
            "justify_items": null,
            "left": null,
            "margin": null,
            "max_height": null,
            "max_width": null,
            "min_height": null,
            "min_width": null,
            "object_fit": null,
            "object_position": null,
            "order": null,
            "overflow": null,
            "overflow_x": null,
            "overflow_y": null,
            "padding": null,
            "right": null,
            "top": null,
            "visibility": null,
            "width": null
          }
        },
        "f6ec9bf5601744e9abb1a93bc584e1bf": {
          "model_module": "@jupyter-widgets/controls",
          "model_name": "ButtonStyleModel",
          "model_module_version": "1.5.0",
          "state": {
            "_model_module": "@jupyter-widgets/controls",
            "_model_module_version": "1.5.0",
            "_model_name": "ButtonStyleModel",
            "_view_count": null,
            "_view_module": "@jupyter-widgets/base",
            "_view_module_version": "1.2.0",
            "_view_name": "StyleView",
            "button_color": null,
            "font_weight": ""
          }
        }
      }
    }
  },
  "cells": [
    {
      "cell_type": "markdown",
      "metadata": {
        "id": "view-in-github",
        "colab_type": "text"
      },
      "source": [
        "<a href=\"https://colab.research.google.com/github/satani99/fastai_22_2/blob/main/foundations.ipynb\" target=\"_parent\"><img src=\"https://colab.research.google.com/assets/colab-badge.svg\" alt=\"Open In Colab\"/></a>"
      ]
    },
    {
      "cell_type": "code",
      "execution_count": 1,
      "metadata": {
        "id": "p0mxW9HtrR3b"
      },
      "outputs": [],
      "source": [
        "import torch\n",
        "import matplotlib.pyplot as plt\n",
        "import random"
      ]
    },
    {
      "cell_type": "code",
      "source": [
        "import ipywidgets as widgets"
      ],
      "metadata": {
        "id": "HeNhGzJXNF76"
      },
      "execution_count": 2,
      "outputs": []
    },
    {
      "cell_type": "code",
      "source": [
        "w = widgets.Button(description='Click me')"
      ],
      "metadata": {
        "id": "jFKdWq6aNd8G"
      },
      "execution_count": 3,
      "outputs": []
    },
    {
      "cell_type": "code",
      "source": [
        "w"
      ],
      "metadata": {
        "colab": {
          "base_uri": "https://localhost:8080/",
          "height": 49,
          "referenced_widgets": [
            "b2ea43add54f4bd6b6e478fcf3fbf8f3",
            "bf5cc94895aa458d8f92955dc41002fc",
            "f6ec9bf5601744e9abb1a93bc584e1bf"
          ]
        },
        "id": "hzewU8CANw9T",
        "outputId": "a5d672e4-eadc-4656-9ea3-09c42471ae3a"
      },
      "execution_count": 4,
      "outputs": [
        {
          "output_type": "display_data",
          "data": {
            "text/plain": [
              "Button(description='Click me', style=ButtonStyle())"
            ],
            "application/vnd.jupyter.widget-view+json": {
              "version_major": 2,
              "version_minor": 0,
              "model_id": "b2ea43add54f4bd6b6e478fcf3fbf8f3"
            }
          },
          "metadata": {}
        }
      ]
    },
    {
      "cell_type": "code",
      "source": [
        "def f(o): print('hi')\n"
      ],
      "metadata": {
        "id": "V2yvYs0qNxHc"
      },
      "execution_count": 5,
      "outputs": []
    },
    {
      "cell_type": "code",
      "source": [
        "w.on_click(f)"
      ],
      "metadata": {
        "id": "jgBrW2zvN7QW"
      },
      "execution_count": 6,
      "outputs": []
    },
    {
      "cell_type": "code",
      "source": [
        "from time import sleep"
      ],
      "metadata": {
        "id": "5mckfJvqN8zG"
      },
      "execution_count": 7,
      "outputs": []
    },
    {
      "cell_type": "code",
      "source": [
        "def slow_calculation():\n",
        "  res = 0\n",
        "  for i in range(5):\n",
        "    res += i*i\n",
        "    sleep(1)\n",
        "  return res"
      ],
      "metadata": {
        "id": "e9CZhp4kOn7r"
      },
      "execution_count": 8,
      "outputs": []
    },
    {
      "cell_type": "code",
      "source": [
        "slow_calculation()"
      ],
      "metadata": {
        "colab": {
          "base_uri": "https://localhost:8080/"
        },
        "id": "cubInXegO18o",
        "outputId": "65c107ca-9a42-4736-89ea-f9821ffd2c7d"
      },
      "execution_count": 9,
      "outputs": [
        {
          "output_type": "execute_result",
          "data": {
            "text/plain": [
              "30"
            ]
          },
          "metadata": {},
          "execution_count": 9
        }
      ]
    },
    {
      "cell_type": "code",
      "source": [
        "def slow_calculation(cb=None):\n",
        "  res = 0\n",
        "  for i in range(5):\n",
        "    res += i*i\n",
        "    sleep(1)\n",
        "    if cb: cb(i)\n",
        "  return res"
      ],
      "metadata": {
        "id": "vOGDSI5_O5vf"
      },
      "execution_count": 10,
      "outputs": []
    },
    {
      "cell_type": "code",
      "source": [
        "def show_progress(epoch): print(f\"Awesome! We've finished epoch {epoch}!\")"
      ],
      "metadata": {
        "id": "HvzN7UD3PpMa"
      },
      "execution_count": 11,
      "outputs": []
    },
    {
      "cell_type": "code",
      "source": [
        "slow_calculation(show_progress)"
      ],
      "metadata": {
        "colab": {
          "base_uri": "https://localhost:8080/"
        },
        "id": "bg_0j-H4QBYG",
        "outputId": "a6f594f4-93f3-4fd6-9529-3aee3d6c9d53"
      },
      "execution_count": 12,
      "outputs": [
        {
          "output_type": "stream",
          "name": "stdout",
          "text": [
            "Awesome! We've finished epoch 0!\n",
            "Awesome! We've finished epoch 1!\n",
            "Awesome! We've finished epoch 2!\n",
            "Awesome! We've finished epoch 3!\n",
            "Awesome! We've finished epoch 4!\n"
          ]
        },
        {
          "output_type": "execute_result",
          "data": {
            "text/plain": [
              "30"
            ]
          },
          "metadata": {},
          "execution_count": 12
        }
      ]
    },
    {
      "cell_type": "code",
      "source": [
        "slow_calculation(lambda o: print(f\"Awesome! We've finished epoch {o}!\"))"
      ],
      "metadata": {
        "colab": {
          "base_uri": "https://localhost:8080/"
        },
        "id": "4QPJg460U0Vm",
        "outputId": "b5edb3c3-1356-407f-837d-464e6fb21ca1"
      },
      "execution_count": 13,
      "outputs": [
        {
          "output_type": "stream",
          "name": "stdout",
          "text": [
            "Awesome! We've finished epoch 0!\n",
            "Awesome! We've finished epoch 1!\n",
            "Awesome! We've finished epoch 2!\n",
            "Awesome! We've finished epoch 3!\n",
            "Awesome! We've finished epoch 4!\n"
          ]
        },
        {
          "output_type": "execute_result",
          "data": {
            "text/plain": [
              "30"
            ]
          },
          "metadata": {},
          "execution_count": 13
        }
      ]
    },
    {
      "cell_type": "code",
      "source": [
        "def show_progress(exclamation, epoch): print(f\"{exclamation}! We've finished epoch {epoch}!\")"
      ],
      "metadata": {
        "id": "zMr16rSMWSpi"
      },
      "execution_count": 14,
      "outputs": []
    },
    {
      "cell_type": "code",
      "source": [
        "slow_calculation(lambda o: show_progress(\"OK I guess\", o))"
      ],
      "metadata": {
        "colab": {
          "base_uri": "https://localhost:8080/"
        },
        "id": "ZrkXkB-DWqVx",
        "outputId": "6f3be3ee-2403-4dd7-eaf0-3f750f7dbf7a"
      },
      "execution_count": 15,
      "outputs": [
        {
          "output_type": "stream",
          "name": "stdout",
          "text": [
            "OK I guess! We've finished epoch 0!\n",
            "OK I guess! We've finished epoch 1!\n",
            "OK I guess! We've finished epoch 2!\n",
            "OK I guess! We've finished epoch 3!\n",
            "OK I guess! We've finished epoch 4!\n"
          ]
        },
        {
          "output_type": "execute_result",
          "data": {
            "text/plain": [
              "30"
            ]
          },
          "metadata": {},
          "execution_count": 15
        }
      ]
    },
    {
      "cell_type": "code",
      "source": [
        "def make_show_progress(exclamation):\n",
        "  def _inner(epoch): print(f\"{exclamation}! We've finished epoch {epoch}!\")\n",
        "  return _inner"
      ],
      "metadata": {
        "id": "PC5is-xGWyD0"
      },
      "execution_count": 16,
      "outputs": []
    },
    {
      "cell_type": "code",
      "source": [
        "slow_calculation(make_show_progress(\"Nice!\"))"
      ],
      "metadata": {
        "colab": {
          "base_uri": "https://localhost:8080/"
        },
        "id": "weef9p9bYOEA",
        "outputId": "350be1dc-0106-462d-90ae-b073228d2dc9"
      },
      "execution_count": 17,
      "outputs": [
        {
          "output_type": "stream",
          "name": "stdout",
          "text": [
            "Nice!! We've finished epoch 0!\n",
            "Nice!! We've finished epoch 1!\n",
            "Nice!! We've finished epoch 2!\n",
            "Nice!! We've finished epoch 3!\n",
            "Nice!! We've finished epoch 4!\n"
          ]
        },
        {
          "output_type": "execute_result",
          "data": {
            "text/plain": [
              "30"
            ]
          },
          "metadata": {},
          "execution_count": 17
        }
      ]
    },
    {
      "cell_type": "code",
      "source": [
        "from functools import partial"
      ],
      "metadata": {
        "id": "Cm5hdZ68YxVb"
      },
      "execution_count": 18,
      "outputs": []
    },
    {
      "cell_type": "code",
      "source": [
        "slow_calculation(partial(show_progress, \"OK I guess\"))"
      ],
      "metadata": {
        "colab": {
          "base_uri": "https://localhost:8080/"
        },
        "id": "fOl7was3ZBvv",
        "outputId": "3f186c6d-3444-482a-e064-570bc2d33e6e"
      },
      "execution_count": 19,
      "outputs": [
        {
          "output_type": "stream",
          "name": "stdout",
          "text": [
            "OK I guess! We've finished epoch 0!\n",
            "OK I guess! We've finished epoch 1!\n",
            "OK I guess! We've finished epoch 2!\n",
            "OK I guess! We've finished epoch 3!\n",
            "OK I guess! We've finished epoch 4!\n"
          ]
        },
        {
          "output_type": "execute_result",
          "data": {
            "text/plain": [
              "30"
            ]
          },
          "metadata": {},
          "execution_count": 19
        }
      ]
    },
    {
      "cell_type": "code",
      "source": [
        "f2 = partial(show_progress, \"OK I guess\")"
      ],
      "metadata": {
        "id": "o5g3wcNbZaGR"
      },
      "execution_count": 20,
      "outputs": []
    },
    {
      "cell_type": "code",
      "source": [
        "slow_calculation(f2)"
      ],
      "metadata": {
        "colab": {
          "base_uri": "https://localhost:8080/"
        },
        "id": "62zicqJ7Zgmb",
        "outputId": "b98f533a-eee0-4e17-81b8-b3e8a72911b0"
      },
      "execution_count": 21,
      "outputs": [
        {
          "output_type": "stream",
          "name": "stdout",
          "text": [
            "OK I guess! We've finished epoch 0!\n",
            "OK I guess! We've finished epoch 1!\n",
            "OK I guess! We've finished epoch 2!\n",
            "OK I guess! We've finished epoch 3!\n",
            "OK I guess! We've finished epoch 4!\n"
          ]
        },
        {
          "output_type": "execute_result",
          "data": {
            "text/plain": [
              "30"
            ]
          },
          "metadata": {},
          "execution_count": 21
        }
      ]
    },
    {
      "cell_type": "code",
      "source": [
        "class ProgressShowingCallback():\n",
        "  def __init__(self, exclamation=\"Awesome\"): self.exclamation = exclamation\n",
        "  def __call__(self, epoch): print(f\"{self.exclamation}! We've finished epoch {epoch}!\")"
      ],
      "metadata": {
        "id": "toG_CWwhaUDz"
      },
      "execution_count": 22,
      "outputs": []
    },
    {
      "cell_type": "code",
      "source": [
        "cb = ProgressShowingCallback(\"Just Super\")"
      ],
      "metadata": {
        "id": "nY86FOFQa6En"
      },
      "execution_count": 23,
      "outputs": []
    },
    {
      "cell_type": "code",
      "source": [
        "slow_calculation(cb)"
      ],
      "metadata": {
        "id": "JstjZUmGbLFm",
        "outputId": "47df9ee0-9bb7-4ab9-c7e5-cefc28fd6ec4",
        "colab": {
          "base_uri": "https://localhost:8080/"
        }
      },
      "execution_count": 24,
      "outputs": [
        {
          "output_type": "stream",
          "name": "stdout",
          "text": [
            "Just Super! We've finished epoch 0!\n",
            "Just Super! We've finished epoch 1!\n",
            "Just Super! We've finished epoch 2!\n",
            "Just Super! We've finished epoch 3!\n",
            "Just Super! We've finished epoch 4!\n"
          ]
        },
        {
          "output_type": "execute_result",
          "data": {
            "text/plain": [
              "30"
            ]
          },
          "metadata": {},
          "execution_count": 24
        }
      ]
    },
    {
      "cell_type": "code",
      "source": [
        "def f(*a, **b): print(f\"args: {a}; kwargs: {b}\")"
      ],
      "metadata": {
        "id": "RCk4uL6AbMo2"
      },
      "execution_count": 25,
      "outputs": []
    },
    {
      "cell_type": "code",
      "source": [
        "f(3, 'a', thing1='hello')"
      ],
      "metadata": {
        "colab": {
          "base_uri": "https://localhost:8080/"
        },
        "id": "ecBzfR5ZmsEu",
        "outputId": "56aa6b13-92b2-4902-c195-4a717969f729"
      },
      "execution_count": 26,
      "outputs": [
        {
          "output_type": "stream",
          "name": "stdout",
          "text": [
            "args: (3, 'a'); kwargs: {'thing1': 'hello'}\n"
          ]
        }
      ]
    },
    {
      "cell_type": "code",
      "source": [
        "def g(a, b, c=0): print(a, b, c)"
      ],
      "metadata": {
        "id": "mOwlz2fWmu2p"
      },
      "execution_count": 27,
      "outputs": []
    },
    {
      "cell_type": "code",
      "source": [
        "args = [1, 2]\n",
        "kwargs = {'c': 3}\n",
        "g(*args, **kwargs)"
      ],
      "metadata": {
        "colab": {
          "base_uri": "https://localhost:8080/"
        },
        "id": "95K4f_UhnE7T",
        "outputId": "45f3d01e-4b29-4c46-f7bf-c9ce0949d4d4"
      },
      "execution_count": 28,
      "outputs": [
        {
          "output_type": "stream",
          "name": "stdout",
          "text": [
            "1 2 3\n"
          ]
        }
      ]
    },
    {
      "cell_type": "code",
      "source": [
        "def slow_calculation(cb=None):\n",
        "  res = 0\n",
        "  for i in range(5):\n",
        "    if cb: cb.before_calc(i)\n",
        "    res += i*i\n",
        "    sleep(1)\n",
        "    if cb: cb.after_calc(i, val=res)\n",
        "  return res"
      ],
      "metadata": {
        "id": "5ZPZl7KVnOEY"
      },
      "execution_count": 29,
      "outputs": []
    },
    {
      "cell_type": "code",
      "source": [
        "class PrintStepCallback():\n",
        "  def before_calc(self, *args, **kwargs): print(f\"About to start\")\n",
        "  def after_calc(self, *args, **kwargs): print(f\"Done step\")"
      ],
      "metadata": {
        "id": "pbBhFNwro1HG"
      },
      "execution_count": 30,
      "outputs": []
    },
    {
      "cell_type": "code",
      "source": [
        "slow_calculation(PrintStepCallback())"
      ],
      "metadata": {
        "colab": {
          "base_uri": "https://localhost:8080/"
        },
        "id": "hKZ6MW30pRw8",
        "outputId": "2f0d2730-923a-4a2f-ff13-7ae4686948e1"
      },
      "execution_count": 31,
      "outputs": [
        {
          "output_type": "stream",
          "name": "stdout",
          "text": [
            "About to start\n",
            "Done step\n",
            "About to start\n",
            "Done step\n",
            "About to start\n",
            "Done step\n",
            "About to start\n",
            "Done step\n",
            "About to start\n",
            "Done step\n"
          ]
        },
        {
          "output_type": "execute_result",
          "data": {
            "text/plain": [
              "30"
            ]
          },
          "metadata": {},
          "execution_count": 31
        }
      ]
    },
    {
      "cell_type": "code",
      "source": [
        "class PrintStatusCallback():\n",
        "  def __init__(self): pass\n",
        "  def before_calc(self, epoch, **kwargs): print(f\"About to start: {epoch}\")\n",
        "  def after_calc(self, epoch, val, **kwargs): print(f\"After {epoch}: {val}\")"
      ],
      "metadata": {
        "id": "GtllYvCnpWgb"
      },
      "execution_count": 32,
      "outputs": []
    },
    {
      "cell_type": "code",
      "source": [
        "slow_calculation(PrintStatusCallback())"
      ],
      "metadata": {
        "colab": {
          "base_uri": "https://localhost:8080/"
        },
        "id": "zEV2kOOxp4ex",
        "outputId": "cf038c8b-67f2-44d3-f6ae-02f41a5a070f"
      },
      "execution_count": 33,
      "outputs": [
        {
          "output_type": "stream",
          "name": "stdout",
          "text": [
            "About to start: 0\n",
            "After 0: 0\n",
            "About to start: 1\n",
            "After 1: 1\n",
            "About to start: 2\n",
            "After 2: 5\n",
            "About to start: 3\n",
            "After 3: 14\n",
            "About to start: 4\n",
            "After 4: 30\n"
          ]
        },
        {
          "output_type": "execute_result",
          "data": {
            "text/plain": [
              "30"
            ]
          },
          "metadata": {},
          "execution_count": 33
        }
      ]
    },
    {
      "cell_type": "code",
      "source": [
        "def slow_calculation(cb=None):\n",
        "  res = 0\n",
        "  for i in range(5):\n",
        "    if cb and hasattr(cb, 'before_calc'): cb.before_calc(i)\n",
        "    res += i*i\n",
        "    sleep(1)\n",
        "    if cb and hasattr(cb, 'after_calc'):\n",
        "      if cb.after_calc(i, res):\n",
        "        print(\"stopping early\")\n",
        "        break\n",
        "\n",
        "  return res"
      ],
      "metadata": {
        "id": "c2ovAtbbp8ma"
      },
      "execution_count": 35,
      "outputs": []
    },
    {
      "cell_type": "code",
      "source": [
        "class PrintAfterCallback():\n",
        "  def before_calc(self, epoch):\n",
        "    print(f\"Calculating {epoch} epoch\")\n",
        "  def after_calc(self, epoch, val):\n",
        "    print(f\"After {epoch}: {val}\")\n",
        "    if val > 10: return True"
      ],
      "metadata": {
        "id": "Gk7H5Ra4qd9X"
      },
      "execution_count": 39,
      "outputs": []
    },
    {
      "cell_type": "code",
      "source": [
        "slow_calculation(PrintAfterCallback())"
      ],
      "metadata": {
        "colab": {
          "base_uri": "https://localhost:8080/"
        },
        "id": "yqpFwH4irz-u",
        "outputId": "ab9f9600-7484-4116-96b0-df1500869a9d"
      },
      "execution_count": 40,
      "outputs": [
        {
          "output_type": "stream",
          "name": "stdout",
          "text": [
            "Calculating 0 epoch\n",
            "After 0: 0\n",
            "Calculating 1 epoch\n",
            "After 1: 1\n",
            "Calculating 2 epoch\n",
            "After 2: 5\n",
            "Calculating 3 epoch\n",
            "After 3: 14\n",
            "stopping early\n"
          ]
        },
        {
          "output_type": "execute_result",
          "data": {
            "text/plain": [
              "14"
            ]
          },
          "metadata": {},
          "execution_count": 40
        }
      ]
    },
    {
      "cell_type": "code",
      "source": [
        "class SlowCalculator():\n",
        "  def __init__(self, cb=None): self.cb, self.res = cb, 0\n",
        "\n",
        "  def callback(self, cb_name, *args):\n",
        "    if not self.cb: return\n",
        "    cb = getattr(self.cb, cb_name, None)\n",
        "    if cb: return cb(self, *args)\n",
        "\n",
        "  def calc(self):\n",
        "    for i in range(5):\n",
        "      self.callback('before_calc', i)\n",
        "      self.res += i*i\n",
        "      sleep(1)\n",
        "      if self.callback('after_calc', i):\n",
        "        print(\"stopping early\")\n",
        "        break"
      ],
      "metadata": {
        "id": "6ir5q0Jjr4b4"
      },
      "execution_count": 38,
      "outputs": []
    },
    {
      "cell_type": "code",
      "source": [
        "class ModifyingCallback():\n",
        "  def after_calc(self, calc, epoch):\n",
        "    print(f\"After {epoch}: {calc.res}\")\n",
        "    if calc.res > 10: return True\n",
        "    if calc.res < 3: calc.res = calc.res * 2"
      ],
      "metadata": {
        "id": "tPoOCO5Dsqk4"
      },
      "execution_count": 42,
      "outputs": []
    },
    {
      "cell_type": "code",
      "source": [
        "calculator = SlowCalculator(ModifyingCallback())"
      ],
      "metadata": {
        "id": "1pJK06DTuoTn"
      },
      "execution_count": 43,
      "outputs": []
    },
    {
      "cell_type": "code",
      "source": [
        "calculator.calc()\n",
        "calculator.res"
      ],
      "metadata": {
        "colab": {
          "base_uri": "https://localhost:8080/"
        },
        "id": "AdPUbIHSwOqr",
        "outputId": "f0423b7e-0e2f-423a-b016-75fadc4c239f"
      },
      "execution_count": 45,
      "outputs": [
        {
          "output_type": "stream",
          "name": "stdout",
          "text": [
            "After 0: 0\n",
            "After 1: 1\n",
            "After 2: 6\n",
            "After 3: 15\n",
            "stopping early\n"
          ]
        },
        {
          "output_type": "execute_result",
          "data": {
            "text/plain": [
              "15"
            ]
          },
          "metadata": {},
          "execution_count": 45
        }
      ]
    },
    {
      "cell_type": "code",
      "source": [
        "class SloppyAdder():\n",
        "  def __init__(self, o): self.o = o\n",
        "  def __add__(self, b): return SloppyAdder(self.o + b.o + 0.01)\n",
        "  def __repr__(self): return str(self.o)"
      ],
      "metadata": {
        "id": "Iazu95BywRwy"
      },
      "execution_count": 46,
      "outputs": []
    },
    {
      "cell_type": "code",
      "source": [
        "a = SloppyAdder(1)\n",
        "b = SloppyAdder(2)\n",
        "a+b"
      ],
      "metadata": {
        "colab": {
          "base_uri": "https://localhost:8080/"
        },
        "id": "D_wSkWIZynwv",
        "outputId": "836df790-b163-4c1f-e3b8-f976b9b54b19"
      },
      "execution_count": 47,
      "outputs": [
        {
          "output_type": "execute_result",
          "data": {
            "text/plain": [
              "3.01"
            ]
          },
          "metadata": {},
          "execution_count": 47
        }
      ]
    },
    {
      "cell_type": "code",
      "source": [
        "class A: a, b = 1, 2"
      ],
      "metadata": {
        "id": "iIPMSGlty9dI"
      },
      "execution_count": 48,
      "outputs": []
    },
    {
      "cell_type": "code",
      "source": [
        "a = A()"
      ],
      "metadata": {
        "id": "AA9QOgA7z0xh"
      },
      "execution_count": 49,
      "outputs": []
    },
    {
      "cell_type": "code",
      "source": [
        "a.b"
      ],
      "metadata": {
        "colab": {
          "base_uri": "https://localhost:8080/"
        },
        "id": "ywcIZea-z1tc",
        "outputId": "4a312337-0c5d-42f0-d27c-0be250bc0d89"
      },
      "execution_count": 50,
      "outputs": [
        {
          "output_type": "execute_result",
          "data": {
            "text/plain": [
              "2"
            ]
          },
          "metadata": {},
          "execution_count": 50
        }
      ]
    },
    {
      "cell_type": "code",
      "source": [
        "getattr(a, 'b')"
      ],
      "metadata": {
        "colab": {
          "base_uri": "https://localhost:8080/"
        },
        "id": "_cezrmprz2PD",
        "outputId": "ea78ad73-c6bc-40e6-e392-4a812c6c119f"
      },
      "execution_count": 51,
      "outputs": [
        {
          "output_type": "execute_result",
          "data": {
            "text/plain": [
              "2"
            ]
          },
          "metadata": {},
          "execution_count": 51
        }
      ]
    },
    {
      "cell_type": "code",
      "source": [
        "getattr(a, 'b' if random.random()>0.5 else 'a')"
      ],
      "metadata": {
        "colab": {
          "base_uri": "https://localhost:8080/"
        },
        "id": "tU-ATSLFz5PC",
        "outputId": "d4868bf7-4fe9-455c-aa01-9e1cf98ac456"
      },
      "execution_count": 57,
      "outputs": [
        {
          "output_type": "execute_result",
          "data": {
            "text/plain": [
              "1"
            ]
          },
          "metadata": {},
          "execution_count": 57
        }
      ]
    },
    {
      "cell_type": "code",
      "source": [
        "class B:\n",
        "  a, b = 1, 2\n",
        "  def __getattr__(self, k):\n",
        "    if k[0]=='_': raise AttributeError(k)\n",
        "    return f\"Hello from {k}\""
      ],
      "metadata": {
        "id": "9UNJXO0L0ARQ"
      },
      "execution_count": 58,
      "outputs": []
    },
    {
      "cell_type": "code",
      "source": [
        "b = B()"
      ],
      "metadata": {
        "id": "zXoTAhU41Flx"
      },
      "execution_count": 59,
      "outputs": []
    },
    {
      "cell_type": "code",
      "source": [
        "b.a"
      ],
      "metadata": {
        "colab": {
          "base_uri": "https://localhost:8080/"
        },
        "id": "AS1puIel1kkp",
        "outputId": "4b42dcc9-8119-487c-e524-d0541b08532c"
      },
      "execution_count": 60,
      "outputs": [
        {
          "output_type": "execute_result",
          "data": {
            "text/plain": [
              "1"
            ]
          },
          "metadata": {},
          "execution_count": 60
        }
      ]
    },
    {
      "cell_type": "code",
      "source": [
        "b.foo"
      ],
      "metadata": {
        "colab": {
          "base_uri": "https://localhost:8080/",
          "height": 36
        },
        "id": "uQGzk0BQ1lXw",
        "outputId": "dbcf6efc-f8d8-447b-a673-2277bcef0949"
      },
      "execution_count": 61,
      "outputs": [
        {
          "output_type": "execute_result",
          "data": {
            "text/plain": [
              "'Hello from foo'"
            ],
            "application/vnd.google.colaboratory.intrinsic+json": {
              "type": "string"
            }
          },
          "metadata": {},
          "execution_count": 61
        }
      ]
    },
    {
      "cell_type": "code",
      "source": [
        "b.b"
      ],
      "metadata": {
        "id": "2SE3pW0p1m6G",
        "outputId": "7a6274d7-4922-44fd-8dc7-235a98782ef7",
        "colab": {
          "base_uri": "https://localhost:8080/"
        }
      },
      "execution_count": 62,
      "outputs": [
        {
          "output_type": "execute_result",
          "data": {
            "text/plain": [
              "2"
            ]
          },
          "metadata": {},
          "execution_count": 62
        }
      ]
    },
    {
      "cell_type": "code",
      "source": [],
      "metadata": {
        "id": "yh8K7wD91oex"
      },
      "execution_count": null,
      "outputs": []
    }
  ]
}